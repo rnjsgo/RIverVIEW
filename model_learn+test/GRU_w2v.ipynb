{
 "cells": [
  {
   "cell_type": "code",
   "execution_count": 5,
   "id": "9b41527b",
   "metadata": {
    "scrolled": false
   },
   "outputs": [
    {
     "data": {
      "text/plain": [
       "True"
      ]
     },
     "execution_count": 5,
     "metadata": {},
     "output_type": "execute_result"
    }
   ],
   "source": [
    "from tqdm import tqdm\n",
    "import time\n",
    "\n",
    "import re\n",
    "import pandas as pd\n",
    "import numpy as np\n",
    "import matplotlib.pyplot as plt\n",
    "\n",
    "import urllib.request\n",
    "from collections import Counter\n",
    "from konlpy.tag import Mecab\n",
    "from sklearn.model_selection import train_test_split\n",
    "\n",
    "from sklearn.model_selection import train_test_split\n",
    "from tensorflow.keras.preprocessing.text import Tokenizer\n",
    "from tensorflow.keras.preprocessing.sequence import pad_sequences\n",
    "from gensim.models import Word2Vec, KeyedVectors\n",
    "import gensim\n",
    "\n",
    "import tensorflow as tf\n",
    "import keras\n",
    "\n",
    "from tensorflow.keras.layers import Embedding, Dense, GRU, Flatten, Input\n",
    "from tensorflow.keras.models import Sequential, load_model\n",
    "from tensorflow.keras.callbacks import EarlyStopping, ModelCheckpoint\n",
    "from tensorflow.keras.initializers import Constant\n",
    "\n",
    "from tensorflow.python.client import device_lib\n",
    "\n",
    "tf.test.is_built_with_cuda()"
   ]
  },
  {
   "cell_type": "code",
   "execution_count": null,
   "id": "e0f2a927",
   "metadata": {},
   "outputs": [],
   "source": []
  },
  {
   "cell_type": "code",
   "execution_count": 6,
   "id": "61dc34c2",
   "metadata": {
    "scrolled": true
   },
   "outputs": [
    {
     "data": {
      "text/html": [
       "<div>\n",
       "<style scoped>\n",
       "    .dataframe tbody tr th:only-of-type {\n",
       "        vertical-align: middle;\n",
       "    }\n",
       "\n",
       "    .dataframe tbody tr th {\n",
       "        vertical-align: top;\n",
       "    }\n",
       "\n",
       "    .dataframe thead th {\n",
       "        text-align: right;\n",
       "    }\n",
       "</style>\n",
       "<table border=\"1\" class=\"dataframe\">\n",
       "  <thead>\n",
       "    <tr style=\"text-align: right;\">\n",
       "      <th></th>\n",
       "      <th>score</th>\n",
       "      <th>review</th>\n",
       "    </tr>\n",
       "  </thead>\n",
       "  <tbody>\n",
       "    <tr>\n",
       "      <th>0</th>\n",
       "      <td>5</td>\n",
       "      <td>배공빠르고 굿</td>\n",
       "    </tr>\n",
       "    <tr>\n",
       "      <th>1</th>\n",
       "      <td>2</td>\n",
       "      <td>택배가 엉망이네용 저희집 밑에층에 말도없이 놔두고가고</td>\n",
       "    </tr>\n",
       "    <tr>\n",
       "      <th>2</th>\n",
       "      <td>5</td>\n",
       "      <td>아주좋아요 바지 정말 좋아서2개 더 구매했어요 이가격에 대박입니다. 바느질이 조금 ...</td>\n",
       "    </tr>\n",
       "    <tr>\n",
       "      <th>3</th>\n",
       "      <td>2</td>\n",
       "      <td>선물용으로 빨리 받아서 전달했어야 하는 상품이었는데 머그컵만 와서 당황했습니다. 전...</td>\n",
       "    </tr>\n",
       "    <tr>\n",
       "      <th>4</th>\n",
       "      <td>5</td>\n",
       "      <td>민트색상 예뻐요. 옆 손잡이는 거는 용도로도 사용되네요 ㅎㅎ</td>\n",
       "    </tr>\n",
       "    <tr>\n",
       "      <th>5</th>\n",
       "      <td>2</td>\n",
       "      <td>비추합니다 계란 뒤집을 때 완전 불편해요 ㅠㅠ 코팅도 묻어나고 보기엔 예쁘고 실용적...</td>\n",
       "    </tr>\n",
       "    <tr>\n",
       "      <th>6</th>\n",
       "      <td>1</td>\n",
       "      <td>주문을 11월6에 시켰는데 11월16일에 배송이 왔네요 ㅎㅎㅎ 여기 회사측과는 전화...</td>\n",
       "    </tr>\n",
       "    <tr>\n",
       "      <th>7</th>\n",
       "      <td>2</td>\n",
       "      <td>넉넉한 길이로 주문했는데도 안 맞네요 별로예요</td>\n",
       "    </tr>\n",
       "    <tr>\n",
       "      <th>8</th>\n",
       "      <td>2</td>\n",
       "      <td>보폴이 계속 때처럼 나오다가 지금은 안나네요~</td>\n",
       "    </tr>\n",
       "    <tr>\n",
       "      <th>9</th>\n",
       "      <td>2</td>\n",
       "      <td>110인데 전문속옷브랜드 위생팬티105보다 작은듯해요. 불편해요. 밴딩부분이 다 신...</td>\n",
       "    </tr>\n",
       "  </tbody>\n",
       "</table>\n",
       "</div>"
      ],
      "text/plain": [
       "   score                                             review\n",
       "0      5                                            배공빠르고 굿\n",
       "1      2                      택배가 엉망이네용 저희집 밑에층에 말도없이 놔두고가고\n",
       "2      5  아주좋아요 바지 정말 좋아서2개 더 구매했어요 이가격에 대박입니다. 바느질이 조금 ...\n",
       "3      2  선물용으로 빨리 받아서 전달했어야 하는 상품이었는데 머그컵만 와서 당황했습니다. 전...\n",
       "4      5                  민트색상 예뻐요. 옆 손잡이는 거는 용도로도 사용되네요 ㅎㅎ\n",
       "5      2  비추합니다 계란 뒤집을 때 완전 불편해요 ㅠㅠ 코팅도 묻어나고 보기엔 예쁘고 실용적...\n",
       "6      1  주문을 11월6에 시켰는데 11월16일에 배송이 왔네요 ㅎㅎㅎ 여기 회사측과는 전화...\n",
       "7      2                          넉넉한 길이로 주문했는데도 안 맞네요 별로예요\n",
       "8      2                          보폴이 계속 때처럼 나오다가 지금은 안나네요~\n",
       "9      2  110인데 전문속옷브랜드 위생팬티105보다 작은듯해요. 불편해요. 밴딩부분이 다 신..."
      ]
     },
     "execution_count": 6,
     "metadata": {},
     "output_type": "execute_result"
    }
   ],
   "source": [
    "total_data = pd.read_csv('./save_data/naver_review_puretext.csv')\n",
    "total_data = total_data[['score','review']]\n",
    "total_data[:10]"
   ]
  },
  {
   "cell_type": "code",
   "execution_count": 7,
   "id": "54f8c3be",
   "metadata": {},
   "outputs": [
    {
     "data": {
      "text/html": [
       "<div>\n",
       "<style scoped>\n",
       "    .dataframe tbody tr th:only-of-type {\n",
       "        vertical-align: middle;\n",
       "    }\n",
       "\n",
       "    .dataframe tbody tr th {\n",
       "        vertical-align: top;\n",
       "    }\n",
       "\n",
       "    .dataframe thead th {\n",
       "        text-align: right;\n",
       "    }\n",
       "</style>\n",
       "<table border=\"1\" class=\"dataframe\">\n",
       "  <thead>\n",
       "    <tr style=\"text-align: right;\">\n",
       "      <th></th>\n",
       "      <th>score</th>\n",
       "      <th>review</th>\n",
       "      <th>label</th>\n",
       "    </tr>\n",
       "  </thead>\n",
       "  <tbody>\n",
       "    <tr>\n",
       "      <th>0</th>\n",
       "      <td>5</td>\n",
       "      <td>배공빠르고 굿</td>\n",
       "      <td>1</td>\n",
       "    </tr>\n",
       "    <tr>\n",
       "      <th>1</th>\n",
       "      <td>2</td>\n",
       "      <td>택배가 엉망이네용 저희집 밑에층에 말도없이 놔두고가고</td>\n",
       "      <td>0</td>\n",
       "    </tr>\n",
       "    <tr>\n",
       "      <th>2</th>\n",
       "      <td>5</td>\n",
       "      <td>아주좋아요 바지 정말 좋아서2개 더 구매했어요 이가격에 대박입니다. 바느질이 조금 ...</td>\n",
       "      <td>1</td>\n",
       "    </tr>\n",
       "    <tr>\n",
       "      <th>3</th>\n",
       "      <td>2</td>\n",
       "      <td>선물용으로 빨리 받아서 전달했어야 하는 상품이었는데 머그컵만 와서 당황했습니다. 전...</td>\n",
       "      <td>0</td>\n",
       "    </tr>\n",
       "    <tr>\n",
       "      <th>4</th>\n",
       "      <td>5</td>\n",
       "      <td>민트색상 예뻐요. 옆 손잡이는 거는 용도로도 사용되네요 ㅎㅎ</td>\n",
       "      <td>1</td>\n",
       "    </tr>\n",
       "    <tr>\n",
       "      <th>5</th>\n",
       "      <td>2</td>\n",
       "      <td>비추합니다 계란 뒤집을 때 완전 불편해요 ㅠㅠ 코팅도 묻어나고 보기엔 예쁘고 실용적...</td>\n",
       "      <td>0</td>\n",
       "    </tr>\n",
       "    <tr>\n",
       "      <th>6</th>\n",
       "      <td>1</td>\n",
       "      <td>주문을 11월6에 시켰는데 11월16일에 배송이 왔네요 ㅎㅎㅎ 여기 회사측과는 전화...</td>\n",
       "      <td>0</td>\n",
       "    </tr>\n",
       "    <tr>\n",
       "      <th>7</th>\n",
       "      <td>2</td>\n",
       "      <td>넉넉한 길이로 주문했는데도 안 맞네요 별로예요</td>\n",
       "      <td>0</td>\n",
       "    </tr>\n",
       "    <tr>\n",
       "      <th>8</th>\n",
       "      <td>2</td>\n",
       "      <td>보폴이 계속 때처럼 나오다가 지금은 안나네요~</td>\n",
       "      <td>0</td>\n",
       "    </tr>\n",
       "    <tr>\n",
       "      <th>9</th>\n",
       "      <td>2</td>\n",
       "      <td>110인데 전문속옷브랜드 위생팬티105보다 작은듯해요. 불편해요. 밴딩부분이 다 신...</td>\n",
       "      <td>0</td>\n",
       "    </tr>\n",
       "  </tbody>\n",
       "</table>\n",
       "</div>"
      ],
      "text/plain": [
       "   score                                             review  label\n",
       "0      5                                            배공빠르고 굿      1\n",
       "1      2                      택배가 엉망이네용 저희집 밑에층에 말도없이 놔두고가고      0\n",
       "2      5  아주좋아요 바지 정말 좋아서2개 더 구매했어요 이가격에 대박입니다. 바느질이 조금 ...      1\n",
       "3      2  선물용으로 빨리 받아서 전달했어야 하는 상품이었는데 머그컵만 와서 당황했습니다. 전...      0\n",
       "4      5                  민트색상 예뻐요. 옆 손잡이는 거는 용도로도 사용되네요 ㅎㅎ      1\n",
       "5      2  비추합니다 계란 뒤집을 때 완전 불편해요 ㅠㅠ 코팅도 묻어나고 보기엔 예쁘고 실용적...      0\n",
       "6      1  주문을 11월6에 시켰는데 11월16일에 배송이 왔네요 ㅎㅎㅎ 여기 회사측과는 전화...      0\n",
       "7      2                          넉넉한 길이로 주문했는데도 안 맞네요 별로예요      0\n",
       "8      2                          보폴이 계속 때처럼 나오다가 지금은 안나네요~      0\n",
       "9      2  110인데 전문속옷브랜드 위생팬티105보다 작은듯해요. 불편해요. 밴딩부분이 다 신...      0"
      ]
     },
     "execution_count": 7,
     "metadata": {},
     "output_type": "execute_result"
    }
   ],
   "source": [
    "#긍정과 부정 라벨 붙여주기\n",
    "#긍정 : score > 3 부정 : score < 3\n",
    "total_data['label'] = np.select([total_data.score>3],[1],default=0)\n",
    "total_data[:10]"
   ]
  },
  {
   "cell_type": "code",
   "execution_count": 8,
   "id": "da1afb67",
   "metadata": {
    "scrolled": true
   },
   "outputs": [
    {
     "name": "stdout",
     "output_type": "stream",
     "text": [
      "null 유무 :  False\n",
      "총 샘플 수 :  199908\n"
     ]
    }
   ],
   "source": [
    "print('null 유무 : ',total_data.isnull().values.any())\n",
    "total_data.drop_duplicates(subset=['review'], inplace = True)\n",
    "\n",
    "print('총 샘플 수 : ',len(total_data))"
   ]
  },
  {
   "cell_type": "code",
   "execution_count": 9,
   "id": "322e33d6",
   "metadata": {
    "scrolled": true
   },
   "outputs": [
    {
     "name": "stdout",
     "output_type": "stream",
     "text": [
      "훈련용 리뷰의 개수 : 149931\n",
      "테스트용 리뷰의 개수 : 49977\n",
      "   label  count\n",
      "0      0  74918\n",
      "1      1  75013\n"
     ]
    },
    {
     "data": {
      "image/png": "[encoded data removed]",
      "text/plain": [
       "<Figure size 640x480 with 1 Axes>"
      ]
     },
     "metadata": {},
     "output_type": "display_data"
    }
   ],
   "source": [
    "train_data, test_data = train_test_split(total_data, test_size = 0.25, random_state = 42)\n",
    "\n",
    "print('훈련용 리뷰의 개수 :', len(train_data))\n",
    "print('테스트용 리뷰의 개수 :', len(test_data))\n",
    "train_data['label'].value_counts().plot(kind = 'bar')\n",
    "print(train_data.groupby('label').size().reset_index(name = 'count'))"
   ]
  },
  {
   "cell_type": "code",
   "execution_count": 10,
   "id": "f37b84ab",
   "metadata": {},
   "outputs": [
    {
     "name": "stderr",
     "output_type": "stream",
     "text": [
      "100%|█████████████████████████████████████████████████████████████████████████| 1270/1270 [00:00<00:00, 1320794.96it/s]\n"
     ]
    }
   ],
   "source": [
    "mecab = Mecab('C:/mecab/mecab-ko-dic')\n",
    "stopwords = pd.read_csv('./save_data/stop_word.csv')\n",
    "tmp = stopwords.values.tolist()\n",
    "stopwords = []\n",
    "for s in tqdm(tmp):\n",
    "    stopwords.append(*s)\n",
    "\n",
    "train_data['tokenized'] = train_data['review'].apply(mecab.morphs)\n",
    "train_data['tokenized'] = train_data['tokenized'].apply(lambda x: [item for item in x if item not in stopwords])\n",
    "\n",
    "test_data['tokenized'] = test_data['review'].apply(mecab.morphs)\n",
    "test_data['tokenized'] = test_data['tokenized'].apply(lambda x: [item for item in x if item not in stopwords])\n"
   ]
  },
  {
   "cell_type": "code",
   "execution_count": 11,
   "id": "e82c9b5b",
   "metadata": {
    "scrolled": true
   },
   "outputs": [
    {
     "name": "stdout",
     "output_type": "stream",
     "text": [
      "        score                                             review  label  \\\n",
      "59662       2  사이즈를 3센치씩 늘린건데도 작아요 그리고 색상은 완전 달라요 칙칙한핑크네요ㅠㅠ 많...      0   \n",
      "12432       2                     ㅂ불만족.. 빗이 아픔 .. 멍이피부에 빗질못해주겟네요      0   \n",
      "146475      1  이 제품쓰고 삼일만에 변기물이 잘 안내려갔어요. 혹시나해서 다시 빼보니 물이 다시 ...      0   \n",
      "158057      5                                         적당하고 만족합니다      1   \n",
      "70211       2                   편하자고 이용하는 밀키튼데 손 은근 많이 가서 저는 패쓰요      0   \n",
      "\n",
      "                                                tokenized  \n",
      "59662   [사이즈, 3, 센치, 씩, 늘린, 건데, 도, 작, 아요, 색상, 은, 완전, 달...  \n",
      "12432   [ㅂ, 불만족, ., ., 빗이, 아픔, ., ., 멍, 피부, 빗, 질, 못해, ...  \n",
      "146475  [제품, 쓰, 고, 만, 변기, 물, 잘, 안, 내려갔, 어요, ., 혹시나, 해서...  \n",
      "158057                                   [적당, 고, 만족, 합니다]  \n",
      "70211   [편하, 자고, 이용, 는, 밀키, 튼, 데, 손, 은, 근, 많이, 서, 는, 패...  \n"
     ]
    }
   ],
   "source": [
    "print(train_data.head())"
   ]
  },
  {
   "cell_type": "code",
   "execution_count": 12,
   "id": "147b3f39",
   "metadata": {},
   "outputs": [],
   "source": [
    "X_train = train_data['tokenized'].values\n",
    "y_train = train_data['label'].values\n",
    "X_test= test_data['tokenized'].values\n",
    "y_test = test_data['label'].values"
   ]
  },
  {
   "cell_type": "code",
   "execution_count": 13,
   "id": "2da9b85d",
   "metadata": {
    "scrolled": true
   },
   "outputs": [
    {
     "name": "stdout",
     "output_type": "stream",
     "text": [
      "단어 집합(vocabulary)의 크기 : 42112\n",
      "등장 빈도가 1번 이하인 희귀 단어의 수: 19687\n",
      "단어 집합에서 희귀 단어의 비율: 46.74914513677811\n",
      "전체 등장 빈도에서 희귀 단어 등장 빈도 비율: 0.7661193662772054\n"
     ]
    }
   ],
   "source": [
    "tokenizer = Tokenizer()\n",
    "tokenizer.fit_on_texts(X_train)\n",
    "threshold = 2\n",
    "total_cnt = len(tokenizer.word_index) # 단어의 수\n",
    "rare_cnt = 0 # 등장 빈도수가 threshold보다 작은 단어의 개수를 카운트\n",
    "total_freq = 0 # 훈련 데이터의 전체 단어 빈도수 총 합\n",
    "rare_freq = 0 # 등장 빈도수가 threshold보다 작은 단어의 등장 빈도수의 총 합\n",
    "\n",
    "# 단어와 빈도수의 쌍(pair)을 key와 value로 받는다.\n",
    "for key, value in tokenizer.word_counts.items():\n",
    "    total_freq = total_freq + value\n",
    "\n",
    "    # 단어의 등장 빈도수가 threshold보다 작으면\n",
    "    if(value < threshold):\n",
    "        rare_cnt = rare_cnt + 1\n",
    "        rare_freq = rare_freq + value\n",
    "\n",
    "print('단어 집합(vocabulary)의 크기 :',total_cnt)\n",
    "print('등장 빈도가 %s번 이하인 희귀 단어의 수: %s'%(threshold - 1, rare_cnt))\n",
    "print(\"단어 집합에서 희귀 단어의 비율:\", (rare_cnt / total_cnt)*100)\n",
    "print(\"전체 등장 빈도에서 희귀 단어 등장 빈도 비율:\", (rare_freq / total_freq)*100)"
   ]
  },
  {
   "cell_type": "code",
   "execution_count": 14,
   "id": "2e6b093f",
   "metadata": {},
   "outputs": [
    {
     "name": "stdout",
     "output_type": "stream",
     "text": [
      "단어 집합의 크기 : 22427\n"
     ]
    }
   ],
   "source": [
    "vocab_size = total_cnt - rare_cnt + 2\n",
    "print('단어 집합의 크기 :',vocab_size)"
   ]
  },
  {
   "cell_type": "code",
   "execution_count": 15,
   "id": "a3fa66ae",
   "metadata": {},
   "outputs": [],
   "source": [
    "tokenizer = Tokenizer(vocab_size, oov_token = 'OOV') \n",
    "tokenizer.fit_on_texts(X_train)\n",
    "X_train = tokenizer.texts_to_sequences(X_train)\n",
    "X_test = tokenizer.texts_to_sequences(X_test)"
   ]
  },
  {
   "cell_type": "code",
   "execution_count": 16,
   "id": "bcced468",
   "metadata": {
    "scrolled": true
   },
   "outputs": [
    {
     "name": "stderr",
     "output_type": "stream",
     "text": [
      "IOPub data rate exceeded.\n",
      "The notebook server will temporarily stop sending output\n",
      "to the client in order to avoid crashing it.\n",
      "To change this limit, set the config variable\n",
      "`--NotebookApp.iopub_data_rate_limit`.\n",
      "\n",
      "Current values:\n",
      "NotebookApp.iopub_data_rate_limit=1000000.0 (bytes/sec)\n",
      "NotebookApp.rate_limit_window=3.0 (secs)\n",
      "\n"
     ]
    }
   ],
   "source": [
    "print(X_train[0:])\n",
    "print(len(X_train[0:]))\n"
   ]
  },
  {
   "cell_type": "code",
   "execution_count": 17,
   "id": "854956fd",
   "metadata": {},
   "outputs": [
    {
     "name": "stdout",
     "output_type": "stream",
     "text": [
      "리뷰의 최대 길이 : 88\n",
      "리뷰의 평균 길이 : 17.13924405226404\n"
     ]
    },
    {
     "data": {
      "image/png": "[encoded data removed]",
      "text/plain": [
       "<Figure size 640x480 with 1 Axes>"
      ]
     },
     "metadata": {},
     "output_type": "display_data"
    }
   ],
   "source": [
    "print('리뷰의 최대 길이 :',max(len(review) for review in X_train))\n",
    "print('리뷰의 평균 길이 :',sum(map(len, X_train))/len(X_train))\n",
    "plt.hist([len(review) for review in X_train], bins=50)\n",
    "plt.xlabel('length of samples')\n",
    "plt.ylabel('number of samples')\n",
    "plt.show()"
   ]
  },
  {
   "cell_type": "code",
   "execution_count": 19,
   "id": "34a81ab5",
   "metadata": {},
   "outputs": [
    {
     "name": "stdout",
     "output_type": "stream",
     "text": [
      "전체 샘플 중 길이가 45 이하인 샘플의 비율: 96.09020149268663\n"
     ]
    }
   ],
   "source": [
    "def below_threshold_len(max_len, nested_list):\n",
    "  count = 0\n",
    "  for sentence in nested_list:\n",
    "    if(len(sentence) <= max_len):\n",
    "        count = count + 1\n",
    "  print('전체 샘플 중 길이가 %s 이하인 샘플의 비율: %s'%(max_len, (count / len(nested_list))*100))\n",
    "max_len = 45\n",
    "\n",
    "below_threshold_len(max_len, X_train)"
   ]
  },
  {
   "cell_type": "code",
   "execution_count": 20,
   "id": "d205e5bd",
   "metadata": {},
   "outputs": [],
   "source": [
    "X_train = pad_sequences(X_train, maxlen=max_len)\n",
    "X_test = pad_sequences(X_test, maxlen=max_len)"
   ]
  },
  {
   "cell_type": "code",
   "execution_count": 38,
   "id": "8e98a4cb",
   "metadata": {},
   "outputs": [
    {
     "name": "stdout",
     "output_type": "stream",
     "text": [
      "리뷰만 읽은 데이터\n",
      "(23916, 200)\n",
      "(149931, 200)\n"
     ]
    }
   ],
   "source": [
    "model_only_reviewdata = gensim.models.Word2Vec.load('./model/only_review.model')\n",
    "print('리뷰만 읽은 데이터')\n",
    "print(model_only_reviewdata.wv.vectors.shape)\n",
    "#모델별 단어 수, 벡터의 차원수들\n",
    "#OR = only review data\n",
    "OR_vocab_size = len(X_train)\n",
    "OR_vector_dim = 200\n",
    "OR_embedding_matrix = np.zeros((OR_vocab_size,200))\n",
    "print(np.shape(OR_embedding_matrix))\n",
    "\n",
    "def get_vector(word, word2vec_model):\n",
    "    if word in word2vec_model:\n",
    "        return word2vec_model[word]\n",
    "    else:\n",
    "        return None\n",
    "    \n",
    "for word, index in tokenizer.word_index.items():\n",
    "    # 단어와 맵핑되는 사전 훈련된 임베딩 벡터값\n",
    "    vector_value = get_vector(word, model_only_reviewdata.wv)\n",
    "    if vector_value is not None :\n",
    "        OR_embedding_matrix[index] = vector_value"
   ]
  },
  {
   "cell_type": "code",
   "execution_count": 39,
   "id": "84410446",
   "metadata": {
    "scrolled": true
   },
   "outputs": [
    {
     "name": "stdout",
     "output_type": "stream",
     "text": [
      "Epoch 1/15\n",
      "1875/1875 [==============================] - ETA: 0s - loss: 0.4947 - acc: 0.8435\n",
      "Epoch 1: val_acc improved from -inf to 0.89569, saving model to ./model\\GRU_Model.h5\n",
      "1875/1875 [==============================] - 82s 43ms/step - loss: 0.4947 - acc: 0.8435 - val_loss: 0.4208 - val_acc: 0.8957\n",
      "Epoch 2/15\n",
      "1875/1875 [==============================] - ETA: 0s - loss: 0.3981 - acc: 0.8926\n",
      "Epoch 2: val_acc did not improve from 0.89569\n",
      "1875/1875 [==============================] - 66s 35ms/step - loss: 0.3981 - acc: 0.8926 - val_loss: 0.3808 - val_acc: 0.8822\n",
      "Epoch 3/15\n",
      "1875/1875 [==============================] - ETA: 0s - loss: 0.3505 - acc: 0.8971\n",
      "Epoch 3: val_acc did not improve from 0.89569\n",
      "1875/1875 [==============================] - 66s 35ms/step - loss: 0.3505 - acc: 0.8971 - val_loss: 0.3644 - val_acc: 0.8945\n",
      "Epoch 4/15\n",
      "1875/1875 [==============================] - ETA: 0s - loss: 0.3353 - acc: 0.8994\n",
      "Epoch 4: val_acc improved from 0.89569 to 0.89912, saving model to ./model\\GRU_Model.h5\n",
      "1875/1875 [==============================] - 79s 42ms/step - loss: 0.3353 - acc: 0.8994 - val_loss: 0.3524 - val_acc: 0.8991\n",
      "Epoch 5/15\n",
      "1875/1875 [==============================] - ETA: 0s - loss: 0.2871 - acc: 0.9202\n",
      "Epoch 5: val_acc improved from 0.89912 to 0.90169, saving model to ./model\\GRU_Model.h5\n",
      "1875/1875 [==============================] - 80s 43ms/step - loss: 0.2871 - acc: 0.9202 - val_loss: 0.3141 - val_acc: 0.9017\n",
      "Epoch 6/15\n",
      "1875/1875 [==============================] - ETA: 0s - loss: 0.2702 - acc: 0.9208\n",
      "Epoch 6: val_acc did not improve from 0.90169\n",
      "1875/1875 [==============================] - 66s 35ms/step - loss: 0.2702 - acc: 0.9208 - val_loss: 0.4878 - val_acc: 0.7756\n",
      "Epoch 7/15\n",
      "1875/1875 [==============================] - ETA: 0s - loss: 0.2876 - acc: 0.9229\n",
      "Epoch 7: val_acc improved from 0.90169 to 0.90209, saving model to ./model\\GRU_Model.h5\n",
      "1875/1875 [==============================] - 79s 42ms/step - loss: 0.2876 - acc: 0.9229 - val_loss: 0.3754 - val_acc: 0.9021\n",
      "Epoch 8/15\n",
      "1875/1875 [==============================] - ETA: 0s - loss: 0.2546 - acc: 0.9302\n",
      "Epoch 8: val_acc did not improve from 0.90209\n",
      "1875/1875 [==============================] - 66s 35ms/step - loss: 0.2546 - acc: 0.9302 - val_loss: 0.4615 - val_acc: 0.8980\n",
      "Epoch 9/15\n",
      "1875/1875 [==============================] - ETA: 0s - loss: 0.2426 - acc: 0.9337\n",
      "Epoch 9: val_acc did not improve from 0.90209\n",
      "1875/1875 [==============================] - 66s 35ms/step - loss: 0.2426 - acc: 0.9337 - val_loss: 0.4427 - val_acc: 0.8923\n"
     ]
    }
   ],
   "source": [
    "embedding_dim = 200\n",
    "hidden_units = 128\n",
    "\n",
    "model = Sequential()\n",
    "model.add(Embedding(OR_vocab_size,OR_vector_dim, embeddings_initializer=Constant(OR_embedding_matrix)))\n",
    "model.add(GRU(hidden_units))\n",
    "model.add(Dense(1, activation='relu'))\n",
    "\n",
    "es = EarlyStopping(monitor='val_loss',patience=4)\n",
    "mc = ModelCheckpoint('./model/GRU_Model.h5', monitor='val_acc', mode='max', verbose=1, save_best_only=True)\n",
    "\n",
    "model.compile(optimizer='Adam', loss='binary_crossentropy', metrics=['acc'])\n",
    "history = model.fit(X_train, y_train, epochs=15, callbacks=[es, mc], batch_size=64, validation_split=0.2)"
   ]
  },
  {
   "cell_type": "code",
   "execution_count": 40,
   "id": "ca9ab79c",
   "metadata": {},
   "outputs": [
    {
     "name": "stdout",
     "output_type": "stream",
     "text": [
      "1562/1562 [==============================] - 6s 4ms/step - loss: 0.4473 - acc: 0.8912\n",
      "\n",
      " 테스트 정확도: 0.8912\n",
      "Generate predictions for 3 samples\n",
      "1/1 [==============================] - 0s 290ms/step\n",
      "predictions shape: (3, 1)\n"
     ]
    }
   ],
   "source": [
    "# Evaluate the model on the test data using `evaluate`\n",
    "print(\"\\n 테스트 정확도: %.4f\" % (model.evaluate(X_test, y_test)[1]))\n",
    "\n",
    "# Generate predictions (probabilities -- the output of the last layer)\n",
    "# on new data using `predict`\n",
    "print(\"Generate predictions for 3 samples\")\n",
    "predictions = model.predict(X_test[:3])\n",
    "print(\"predictions shape:\", predictions.shape)"
   ]
  },
  {
   "cell_type": "code",
   "execution_count": 41,
   "id": "a50a1afd",
   "metadata": {},
   "outputs": [],
   "source": [
    "#load_model = tf.keras.models.load_model('./model/GRU_Model.h5')\n",
    "mecab = Mecab(\"C:/mecab/mecab-ko-dic\")\n",
    "stopwords = pd.read_csv('./save_data/stop_word.csv')\n",
    "tmp = stopwords.values.tolist()\n",
    "max_len = 80\n",
    "stopwords = []\n",
    "for s in tmp:\n",
    "    stopwords.append(*s)\n",
    "def sentiment_predict(new_sentence):\n",
    "    new_sentence = re.sub(r'[^ㄱ-ㅎㅏ-ㅣ가-힣 ]','', new_sentence)\n",
    "    new_sentence = mecab.morphs(new_sentence)\n",
    "    new_sentence = [word for word in new_sentence if not word in stopwords]\n",
    "    encoded = tokenizer.texts_to_sequences([new_sentence])\n",
    "    pad_new = pad_sequences(encoded, maxlen = max_len)\n",
    "    score = float(model.predict(pad_new))\n",
    "    print(\"score : \", score)\n",
    "    if(score > 0.5):\n",
    "        print(\"{:.2f}% 확률로 긍정 리뷰입니다.\".format(score * 100))\n",
    "    else:\n",
    "        print(\"{:.2f}% 확률로 부정 리뷰입니다.\".format((1 - score) * 100))\n"
   ]
  },
  {
   "cell_type": "code",
   "execution_count": 42,
   "id": "42aedc10",
   "metadata": {},
   "outputs": [
    {
     "name": "stdout",
     "output_type": "stream",
     "text": [
      "1/1 [==============================] - 0s 297ms/step\n",
      "score :  0.8417333960533142\n",
      "84.17% 확률로 긍정 리뷰입니다.\n",
      "None\n",
      "0.33500027656555176\n"
     ]
    }
   ],
   "source": [
    "time_sum = 0\n",
    "t1 = time.time()\n",
    "print(sentiment_predict('이거 진짜 좋아요 ㅠㅠ'))\n",
    "t2 = time.time()\n",
    "\n",
    "time_sum += (t2 - t1)\n",
    "print(time_sum)"
   ]
  },
  {
   "cell_type": "code",
   "execution_count": 7,
   "id": "e3bbf0c0",
   "metadata": {},
   "outputs": [],
   "source": [
    "#model.save('./model/GRU_Model.h5')\n",
    "#load_model = tf.keras.models.load_model('./model/GRU_Model.h5')\n",
    "\n",
    "import pickle\n",
    "# saving\n",
    "with open('tokenizer.pickle', 'wb') as handle:\n",
    "    pickle.dump(tokenizer, handle)\n",
    "    \n",
    "# loading\n",
    "#with open('tokenizer.pickle', 'rb') as handle:\n",
    "#    tokenizer = pickle.load(handle)"
   ]
  }
 ],
 "metadata": {
  "kernelspec": {
   "display_name": "Python 3 (ipykernel)",
   "language": "python",
   "name": "python3"
  },
  "language_info": {
   "codemirror_mode": {
    "name": "ipython",
    "version": 3
   },
   "file_extension": ".py",
   "mimetype": "text/x-python",
   "name": "python",
   "nbconvert_exporter": "python",
   "pygments_lexer": "ipython3",
   "version": "3.9.7"
  }
 },
 "nbformat": 4,
 "nbformat_minor": 5
}
