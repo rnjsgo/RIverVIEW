{
 "cells": [
  {
   "cell_type": "code",
   "execution_count": 5,
   "id": "a3740e89",
   "metadata": {},
   "outputs": [
    {
     "data": {
      "text/plain": [
       "True"
      ]
     },
     "execution_count": 5,
     "metadata": {},
     "output_type": "execute_result"
    }
   ],
   "source": [
    "from tqdm import tqdm\n",
    "import time\n",
    "\n",
    "import re\n",
    "import pandas as pd\n",
    "import numpy as np\n",
    "import matplotlib.pyplot as plt\n",
    "\n",
    "import urllib.request\n",
    "from collections import Counter\n",
    "from konlpy.tag import Mecab\n",
    "from sklearn.model_selection import train_test_split\n",
    "\n",
    "from sklearn.model_selection import train_test_split\n",
    "from tensorflow.keras.preprocessing.text import Tokenizer\n",
    "from tensorflow.keras.preprocessing.sequence import pad_sequences\n",
    "from gensim.models import Word2Vec, KeyedVectors\n",
    "import gensim\n",
    "\n",
    "import tensorflow as tf\n",
    "import keras\n",
    "\n",
    "from tensorflow.keras.layers import Embedding, Dense, GRU, Flatten, Input\n",
    "from tensorflow.keras.models import Sequential, load_model\n",
    "from tensorflow.keras.callbacks import EarlyStopping, ModelCheckpoint\n",
    "from tensorflow.keras.initializers import Constant\n",
    "\n",
    "from tensorflow.python.client import device_lib\n",
    "\n",
    "tf.test.is_built_with_cuda()"
   ]
  },
  {
   "cell_type": "code",
   "execution_count": 9,
   "id": "b0853219",
   "metadata": {},
   "outputs": [],
   "source": [
    "total_data = pd.read_csv('./save_data/naver_review.csv')\n",
    "total_data['label'] = np.select([total_data.score>3],[1],default=0)"
   ]
  },
  {
   "cell_type": "code",
   "execution_count": 10,
   "id": "cbb2dac7",
   "metadata": {},
   "outputs": [],
   "source": [
    "train_data, test_data = train_test_split(total_data, test_size = 0.25, random_state = 42)"
   ]
  },
  {
   "cell_type": "code",
   "execution_count": 40,
   "id": "8dc31d2e",
   "metadata": {},
   "outputs": [
    {
     "name": "stdout",
     "output_type": "stream",
     "text": [
      "총 샘플의 수 : 149626\n"
     ]
    }
   ],
   "source": [
    "train_data.drop_duplicates(subset=['review'], inplace=True)\n",
    "print('총 샘플의 수 :',len(train_data))"
   ]
  },
  {
   "cell_type": "code",
   "execution_count": 11,
   "id": "e4789ae4",
   "metadata": {},
   "outputs": [],
   "source": [
    "mecab = Mecab('C:/mecab/mecab-ko-dic')\n",
    "stopwords = pd.read_csv('./save_data/stop_word.csv')\n",
    "tmp = stopwords.values.tolist()\n",
    "stopwords = []\n",
    "for s in tmp:\n",
    "    stopwords.append(*s)\n",
    "\n",
    "train_data['tokenized'] = train_data['review'].apply(mecab.morphs)\n",
    "train_data['tokenized'] = train_data['tokenized'].apply(lambda x: [item for item in x if item not in stopwords])\n",
    "\n",
    "test_data['tokenized'] = test_data['review'].apply(mecab.morphs)\n",
    "test_data['tokenized'] = test_data['tokenized'].apply(lambda x: [item for item in x if item not in stopwords])\n"
   ]
  },
  {
   "cell_type": "code",
   "execution_count": 15,
   "id": "25759ad9",
   "metadata": {
    "scrolled": true
   },
   "outputs": [
    {
     "name": "stderr",
     "output_type": "stream",
     "text": [
      "C:\\Users\\max82\\AppData\\Local\\Temp\\ipykernel_15628\\2845544308.py:1: FutureWarning: The default value of regex will change from True to False in a future version.\n",
      "  train_data['review'] = train_data['review'].str.replace(\"[^ㄱ-ㅎㅏ-ㅣ가-힣 ]\",\"\")\n"
     ]
    }
   ],
   "source": [
    "train_data['review'] = train_data['review'].str.replace(\"[^ㄱ-ㅎㅏ-ㅣ가-힣 ]\",\"\")"
   ]
  },
  {
   "cell_type": "code",
   "execution_count": 19,
   "id": "9b4b2684",
   "metadata": {},
   "outputs": [
    {
     "name": "stdout",
     "output_type": "stream",
     "text": [
      "Unnamed: 0    0\n",
      "score         0\n",
      "review        0\n",
      "label         0\n",
      "tokenized     0\n",
      "dtype: int64\n"
     ]
    },
    {
     "name": "stderr",
     "output_type": "stream",
     "text": [
      "C:\\Users\\max82\\AppData\\Local\\Temp\\ipykernel_15628\\3946236247.py:1: FutureWarning: The default value of regex will change from True to False in a future version.\n",
      "  train_data['review'] = train_data['review'].str.replace('^ +', \"\") # white space 데이터를 empty value로 변경\n"
     ]
    }
   ],
   "source": [
    "train_data['review'] = train_data['review'].str.replace('^ +', \"\") # white space 데이터를 empty value로 변경\n",
    "train_data['review'].replace('', np.nan, inplace=True)\n",
    "print(train_data.isnull().sum())"
   ]
  },
  {
   "cell_type": "code",
   "execution_count": 21,
   "id": "7ec2835c",
   "metadata": {},
   "outputs": [
    {
     "name": "stdout",
     "output_type": "stream",
     "text": [
      "전처리 후 테스트용 샘플의 개수 : 49995\n"
     ]
    },
    {
     "name": "stderr",
     "output_type": "stream",
     "text": [
      "C:\\Users\\max82\\AppData\\Local\\Temp\\ipykernel_15628\\1082388108.py:2: FutureWarning: The default value of regex will change from True to False in a future version.\n",
      "  test_data['review'] = test_data['review'].str.replace(\"[^ㄱ-ㅎㅏ-ㅣ가-힣 ]\",\"\") # 정규 표현식 수행\n",
      "C:\\Users\\max82\\AppData\\Local\\Temp\\ipykernel_15628\\1082388108.py:3: FutureWarning: The default value of regex will change from True to False in a future version.\n",
      "  test_data['review'] = test_data['review'].str.replace('^ +', \"\") # 공백은 empty 값으로 변경\n"
     ]
    }
   ],
   "source": [
    "test_data.drop_duplicates(subset = ['review'], inplace=True) # document 열에서 중복인 내용이 있다면 중복 제거\n",
    "test_data['review'] = test_data['review'].str.replace(\"[^ㄱ-ㅎㅏ-ㅣ가-힣 ]\",\"\") # 정규 표현식 수행\n",
    "test_data['review'] = test_data['review'].str.replace('^ +', \"\") # 공백은 empty 값으로 변경\n",
    "test_data['review'].replace('', np.nan, inplace=True) # 공백은 Null 값으로 변경\n",
    "test_data = test_data.dropna(how='any') # Null 값 제거\n",
    "print('전처리 후 테스트용 샘플의 개수 :',len(test_data))"
   ]
  },
  {
   "cell_type": "code",
   "execution_count": 22,
   "id": "ea86c515",
   "metadata": {},
   "outputs": [],
   "source": [
    "X_train = train_data['tokenized'].values\n",
    "Y_train = train_data['label'].values\n",
    "X_test= test_data['tokenized'].values\n",
    "Y_test = test_data['label'].values"
   ]
  },
  {
   "cell_type": "code",
   "execution_count": 24,
   "id": "ac58073f",
   "metadata": {},
   "outputs": [],
   "source": [
    "tokenizer = Tokenizer()\n",
    "tokenizer.fit_on_texts(X_train)"
   ]
  },
  {
   "cell_type": "code",
   "execution_count": 25,
   "id": "bf3a119f",
   "metadata": {},
   "outputs": [
    {
     "name": "stdout",
     "output_type": "stream",
     "text": [
      "단어 집합(vocabulary)의 크기 : 42132\n",
      "등장 빈도가 2번 이하인 희귀 단어의 수: 24765\n",
      "단어 집합에서 희귀 단어의 비율: 58.77954998575904\n",
      "전체 등장 빈도에서 희귀 단어 등장 빈도 비율: 1.1626681353164774\n"
     ]
    }
   ],
   "source": [
    "threshold = 3\n",
    "total_cnt = len(tokenizer.word_index) # 단어의 수\n",
    "rare_cnt = 0 # 등장 빈도수가 threshold보다 작은 단어의 개수를 카운트\n",
    "total_freq = 0 # 훈련 데이터의 전체 단어 빈도수 총 합\n",
    "rare_freq = 0 # 등장 빈도수가 threshold보다 작은 단어의 등장 빈도수의 총 합\n",
    "\n",
    "# 단어와 빈도수의 쌍(pair)을 key와 value로 받는다.\n",
    "for key, value in tokenizer.word_counts.items():\n",
    "    total_freq = total_freq + value\n",
    "\n",
    "    # 단어의 등장 빈도수가 threshold보다 작으면\n",
    "    if(value < threshold):\n",
    "        rare_cnt = rare_cnt + 1\n",
    "        rare_freq = rare_freq + value\n",
    "\n",
    "print('단어 집합(vocabulary)의 크기 :',total_cnt)\n",
    "print('등장 빈도가 %s번 이하인 희귀 단어의 수: %s'%(threshold - 1, rare_cnt))\n",
    "print(\"단어 집합에서 희귀 단어의 비율:\", (rare_cnt / total_cnt)*100)\n",
    "print(\"전체 등장 빈도에서 희귀 단어 등장 빈도 비율:\", (rare_freq / total_freq)*100)"
   ]
  },
  {
   "cell_type": "code",
   "execution_count": 26,
   "id": "41fb5e8c",
   "metadata": {},
   "outputs": [
    {
     "name": "stdout",
     "output_type": "stream",
     "text": [
      "단어 집합의 크기 : 17368\n"
     ]
    }
   ],
   "source": [
    "# 전체 단어 개수 중 빈도수 2이하인 단어는 제거.\n",
    "# 0번 패딩 토큰을 고려하여 + 1\n",
    "vocab_size = total_cnt - rare_cnt + 1\n",
    "print('단어 집합의 크기 :',vocab_size)"
   ]
  },
  {
   "cell_type": "code",
   "execution_count": 27,
   "id": "8404ac10",
   "metadata": {},
   "outputs": [],
   "source": [
    "tokenizer = Tokenizer(vocab_size) \n",
    "tokenizer.fit_on_texts(X_train)\n",
    "X_train = tokenizer.texts_to_sequences(X_train)\n",
    "X_test = tokenizer.texts_to_sequences(X_test)"
   ]
  },
  {
   "cell_type": "code",
   "execution_count": 28,
   "id": "61909ddb",
   "metadata": {},
   "outputs": [],
   "source": [
    "Y_train = np.array(train_data['label'])\n",
    "Y_test = np.array(test_data['label'])"
   ]
  },
  {
   "cell_type": "code",
   "execution_count": 30,
   "id": "b1d84f17",
   "metadata": {},
   "outputs": [],
   "source": [
    "drop_train = [index for index, sentence in enumerate(X_train) if len(sentence) < 1]"
   ]
  },
  {
   "cell_type": "code",
   "execution_count": 32,
   "id": "316d86f9",
   "metadata": {
    "scrolled": true
   },
   "outputs": [
    {
     "name": "stdout",
     "output_type": "stream",
     "text": [
      "149622\n",
      "149622\n"
     ]
    }
   ],
   "source": [
    "# 빈 샘플들을 제거\n",
    "X_train = np.delete(X_train, drop_train, axis=0)\n",
    "Y_train = np.delete(Y_train, drop_train, axis=0)\n",
    "print(len(X_train))\n",
    "print(len(Y_train))"
   ]
  },
  {
   "cell_type": "code",
   "execution_count": 33,
   "id": "efecd322",
   "metadata": {},
   "outputs": [
    {
     "name": "stdout",
     "output_type": "stream",
     "text": [
      "리뷰의 최대 길이 : 87\n",
      "리뷰의 평균 길이 : 16.961750277365628\n"
     ]
    },
    {
     "data": {
      "image/png": "[encoded data removed]",
      "text/plain": [
       "<Figure size 640x480 with 1 Axes>"
      ]
     },
     "metadata": {},
     "output_type": "display_data"
    }
   ],
   "source": [
    "print('리뷰의 최대 길이 :',max(len(review) for review in X_train))\n",
    "print('리뷰의 평균 길이 :',sum(map(len, X_train))/len(X_train))\n",
    "plt.hist([len(review) for review in X_train], bins=50)\n",
    "plt.xlabel('length of samples')\n",
    "plt.ylabel('number of samples')\n",
    "plt.show()"
   ]
  },
  {
   "cell_type": "code",
   "execution_count": 34,
   "id": "05325759",
   "metadata": {},
   "outputs": [],
   "source": [
    "def below_threshold_len(max_len, nested_list):\n",
    "  count = 0\n",
    "  for sentence in nested_list:\n",
    "    if(len(sentence) <= max_len):\n",
    "        count = count + 1\n",
    "  print('전체 샘플 중 길이가 %s 이하인 샘플의 비율: %s'%(max_len, (count / len(nested_list))*100))"
   ]
  },
  {
   "cell_type": "code",
   "execution_count": 46,
   "id": "669f7300",
   "metadata": {
    "scrolled": false
   },
   "outputs": [
    {
     "name": "stdout",
     "output_type": "stream",
     "text": [
      "전체 샘플 중 길이가 40 이하인 샘플의 비율: 93.6954458568927\n"
     ]
    }
   ],
   "source": [
    "max_len = 40\n",
    "below_threshold_len(max_len, X_train)"
   ]
  },
  {
   "cell_type": "code",
   "execution_count": 47,
   "id": "ce6bc2f4",
   "metadata": {},
   "outputs": [],
   "source": [
    "X_train = pad_sequences(X_train, maxlen=max_len)\n",
    "X_test = pad_sequences(X_test, maxlen=max_len)"
   ]
  },
  {
   "cell_type": "code",
   "execution_count": 69,
   "id": "9f94429d",
   "metadata": {},
   "outputs": [
    {
     "name": "stdout",
     "output_type": "stream",
     "text": [
      "리뷰만 읽은 데이터\n",
      "(23916, 200)\n",
      "(149622, 200)\n"
     ]
    }
   ],
   "source": [
    "model_only_reviewdata = gensim.models.Word2Vec.load('./model/only_review.model')\n",
    "print('리뷰만 읽은 데이터')\n",
    "print(model_only_reviewdata.wv.vectors.shape)\n",
    "#모델별 단어 수, 벡터의 차원수들\n",
    "#OR = only review data\n",
    "OR_vocab_size = len(X_train)\n",
    "OR_vector_dim = 200\n",
    "OR_embedding_matrix = np.zeros((OR_vocab_size,200))\n",
    "print(np.shape(OR_embedding_matrix))\n",
    "\n",
    "def get_vector(word, word2vec_model):\n",
    "    if word in word2vec_model:\n",
    "        return word2vec_model[word]\n",
    "    else:\n",
    "        return None\n",
    "    \n",
    "for word, index in tokenizer.word_index.items():\n",
    "    # 단어와 맵핑되는 사전 훈련된 임베딩 벡터값\n",
    "    vector_value = get_vector(word, model_only_reviewdata.wv)\n",
    "    if vector_value is not None :\n",
    "        OR_embedding_matrix[index] = vector_value"
   ]
  },
  {
   "cell_type": "code",
   "execution_count": 78,
   "id": "4b5d62ad",
   "metadata": {
    "scrolled": false
   },
   "outputs": [
    {
     "name": "stdout",
     "output_type": "stream",
     "text": [
      "Epoch 1/15\n",
      "1870/1871 [============================>.] - ETA: 0s - loss: 0.4711 - acc: 0.8344\n",
      "Epoch 1: val_acc improved from -inf to 0.89397, saving model to ./model\\LSTM.h5\n",
      "1871/1871 [==============================] - 87s 46ms/step - loss: 0.4711 - acc: 0.8344 - val_loss: 0.3677 - val_acc: 0.8940\n",
      "Epoch 2/15\n",
      "1871/1871 [==============================] - ETA: 0s - loss: 0.3437 - acc: 0.8980\n",
      "Epoch 2: val_acc improved from 0.89397 to 0.89784, saving model to ./model\\LSTM.h5\n",
      "1871/1871 [==============================] - 85s 45ms/step - loss: 0.3437 - acc: 0.8980 - val_loss: 0.4081 - val_acc: 0.8978\n",
      "Epoch 3/15\n",
      "1871/1871 [==============================] - ETA: 0s - loss: 0.3511 - acc: 0.8888\n",
      "Epoch 3: val_acc improved from 0.89784 to 0.90035, saving model to ./model\\LSTM.h5\n",
      "1871/1871 [==============================] - 83s 44ms/step - loss: 0.3511 - acc: 0.8888 - val_loss: 0.2922 - val_acc: 0.9004\n",
      "Epoch 4/15\n",
      "1870/1871 [============================>.] - ETA: 0s - loss: 0.2553 - acc: 0.9214\n",
      "Epoch 4: val_acc improved from 0.90035 to 0.90830, saving model to ./model\\LSTM.h5\n",
      "1871/1871 [==============================] - 86s 46ms/step - loss: 0.2553 - acc: 0.9214 - val_loss: 0.3162 - val_acc: 0.9083\n",
      "Epoch 5/15\n",
      "1871/1871 [==============================] - ETA: 0s - loss: 0.2516 - acc: 0.9250\n",
      "Epoch 5: val_acc did not improve from 0.90830\n",
      "1871/1871 [==============================] - 72s 38ms/step - loss: 0.2516 - acc: 0.9250 - val_loss: 0.4021 - val_acc: 0.8606\n",
      "Epoch 6/15\n",
      "1871/1871 [==============================] - ETA: 0s - loss: 0.2285 - acc: 0.9345\n",
      "Epoch 6: val_acc did not improve from 0.90830\n",
      "1871/1871 [==============================] - 70s 37ms/step - loss: 0.2285 - acc: 0.9345 - val_loss: 0.2802 - val_acc: 0.9061\n",
      "Epoch 7/15\n",
      "1871/1871 [==============================] - ETA: 0s - loss: 0.2281 - acc: 0.9352\n",
      "Epoch 7: val_acc did not improve from 0.90830\n",
      "1871/1871 [==============================] - 70s 37ms/step - loss: 0.2281 - acc: 0.9352 - val_loss: 0.3368 - val_acc: 0.9073\n",
      "Epoch 8/15\n",
      "1871/1871 [==============================] - ETA: 0s - loss: 0.1916 - acc: 0.9454\n",
      "Epoch 8: val_acc did not improve from 0.90830\n",
      "1871/1871 [==============================] - 71s 38ms/step - loss: 0.1916 - acc: 0.9454 - val_loss: 0.3858 - val_acc: 0.9082\n",
      "Epoch 9/15\n",
      "1871/1871 [==============================] - ETA: 0s - loss: 0.2029 - acc: 0.9431\n",
      "Epoch 9: val_acc did not improve from 0.90830\n",
      "1871/1871 [==============================] - 69s 37ms/step - loss: 0.2029 - acc: 0.9431 - val_loss: 0.3082 - val_acc: 0.9049\n",
      "Epoch 10/15\n",
      "1870/1871 [============================>.] - ETA: 0s - loss: 0.1805 - acc: 0.9518\n",
      "Epoch 10: val_acc did not improve from 0.90830\n",
      "1871/1871 [==============================] - 72s 38ms/step - loss: 0.1805 - acc: 0.9518 - val_loss: 0.3898 - val_acc: 0.8933\n",
      "Epoch 10: early stopping\n"
     ]
    }
   ],
   "source": [
    "from tensorflow.keras.layers import Embedding, Dense, LSTM\n",
    "from tensorflow.keras.models import Sequential\n",
    "from tensorflow.keras.models import load_model\n",
    "from tensorflow.keras.callbacks import EarlyStopping, ModelCheckpoint\n",
    "from gensim.models import Word2Vec, KeyedVectors\n",
    "import gensim\n",
    "from tensorflow.keras.initializers import Constant\n",
    "hidden_units = 128\n",
    "model = Sequential()\n",
    "model.add(Embedding(OR_vocab_size,OR_vector_dim, embeddings_initializer=Constant(OR_embedding_matrix)))\n",
    "model.add(LSTM(hidden_units))\n",
    "model.add(Dense(1, activation='relu'))\n",
    "\n",
    "es = EarlyStopping(monitor='val_loss', mode='min', verbose=1, patience=4)\n",
    "mc = ModelCheckpoint('./model/LSTM.h5', monitor='val_acc', mode='max', verbose=1, save_best_only=True)\n",
    "\n",
    "model.compile(optimizer='Adam', loss='binary_crossentropy', metrics=['acc'])\n",
    "history = model.fit(X_train, Y_train, epochs=15, callbacks=[es, mc], batch_size=64, validation_split=0.2)"
   ]
  },
  {
   "cell_type": "code",
   "execution_count": null,
   "id": "73f3493a",
   "metadata": {},
   "outputs": [],
   "source": [
    "#모델 로드\n",
    "loaded_model = load_model('./model/LSTM.h5')"
   ]
  },
  {
   "cell_type": "code",
   "execution_count": 79,
   "id": "10249182",
   "metadata": {},
   "outputs": [
    {
     "name": "stdout",
     "output_type": "stream",
     "text": [
      "1563/1563 [==============================] - 8s 5ms/step - loss: 0.3962 - acc: 0.8928\n",
      "\n",
      " 테스트 정확도: 0.8928\n"
     ]
    }
   ],
   "source": [
    "print(\"\\n 테스트 정확도: %.4f\" % (model.evaluate(X_test, Y_test)[1]))"
   ]
  },
  {
   "cell_type": "code",
   "execution_count": 80,
   "id": "e538f05d",
   "metadata": {},
   "outputs": [],
   "source": [
    "def sentiment_predict(new_sentence):\n",
    "  new_sentence = re.sub(r'[^ㄱ-ㅎㅏ-ㅣ가-힣 ]','', new_sentence)\n",
    "  new_sentence = mecab.morphs(new_sentence) # 토큰화\n",
    "  new_sentence = [word for word in new_sentence if not word in stopwords] # 불용어 제거\n",
    "  encoded = tokenizer.texts_to_sequences([new_sentence]) # 정수 인코딩\n",
    "  pad_new = pad_sequences(encoded, maxlen = max_len) # 패딩\n",
    "  score = float(model.predict(pad_new)) # 예측\n",
    "  if(score > 0.5):\n",
    "    print(\"{:.2f}% 확률로 긍정 리뷰입니다.\\n\".format(score * 100))\n",
    "  else:\n",
    "    print(\"{:.2f}% 확률로 부정 리뷰입니다.\\n\".format((1 - score) * 100))"
   ]
  },
  {
   "cell_type": "code",
   "execution_count": 81,
   "id": "1e2176b3",
   "metadata": {},
   "outputs": [
    {
     "name": "stdout",
     "output_type": "stream",
     "text": [
      "1/1 [==============================] - 0s 337ms/step\n",
      "92.75% 확률로 긍정 리뷰입니다.\n",
      "\n",
      "None\n",
      "0.37000489234924316\n"
     ]
    }
   ],
   "source": [
    "time_sum = 0\n",
    "t1 = time.time()\n",
    "print(sentiment_predict('이거 진짜 좋아요 ㅠㅠ'))\n",
    "t2 = time.time()\n",
    "\n",
    "time_sum += (t2 - t1)\n",
    "print(time_sum)"
   ]
  }
 ],
 "metadata": {
  "kernelspec": {
   "display_name": "Python 3 (ipykernel)",
   "language": "python",
   "name": "python3"
  },
  "language_info": {
   "codemirror_mode": {
    "name": "ipython",
    "version": 3
   },
   "file_extension": ".py",
   "mimetype": "text/x-python",
   "name": "python",
   "nbconvert_exporter": "python",
   "pygments_lexer": "ipython3",
   "version": "3.9.7"
  }
 },
 "nbformat": 4,
 "nbformat_minor": 5
}
