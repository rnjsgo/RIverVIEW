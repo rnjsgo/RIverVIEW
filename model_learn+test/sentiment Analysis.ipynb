{
 "cells": [
  {
   "cell_type": "code",
   "execution_count": 19,
   "id": "9b41527b",
   "metadata": {
    "scrolled": false
   },
   "outputs": [
    {
     "data": {
      "text/plain": [
       "True"
      ]
     },
     "execution_count": 19,
     "metadata": {},
     "output_type": "execute_result"
    }
   ],
   "source": [
    "from tqdm.notebook import tqdm\n",
    "import time\n",
    "\n",
    "import re\n",
    "import pandas as pd\n",
    "import numpy as np\n",
    "import matplotlib.pyplot as plt\n",
    "import urllib.request\n",
    "from collections import Counter\n",
    "from konlpy.tag import Mecab\n",
    "from sklearn.model_selection import train_test_split\n",
    "\n",
    "from sklearn.model_selection import train_test_split\n",
    "from tensorflow.keras.preprocessing.text import Tokenizer\n",
    "from tensorflow.keras.preprocessing.sequence import pad_sequences\n",
    "\n",
    "import tensorflow as tf\n",
    "tf.test.is_gpu_available()"
   ]
  },
  {
   "cell_type": "code",
   "execution_count": 22,
   "id": "61dc34c2",
   "metadata": {
    "scrolled": true
   },
   "outputs": [
    {
     "data": {
      "text/html": [
       "<div>\n",
       "<style scoped>\n",
       "    .dataframe tbody tr th:only-of-type {\n",
       "        vertical-align: middle;\n",
       "    }\n",
       "\n",
       "    .dataframe tbody tr th {\n",
       "        vertical-align: top;\n",
       "    }\n",
       "\n",
       "    .dataframe thead th {\n",
       "        text-align: right;\n",
       "    }\n",
       "</style>\n",
       "<table border=\"1\" class=\"dataframe\">\n",
       "  <thead>\n",
       "    <tr style=\"text-align: right;\">\n",
       "      <th></th>\n",
       "      <th>score</th>\n",
       "      <th>review</th>\n",
       "    </tr>\n",
       "  </thead>\n",
       "  <tbody>\n",
       "    <tr>\n",
       "      <th>0</th>\n",
       "      <td>5</td>\n",
       "      <td>배공빠르고 굿</td>\n",
       "    </tr>\n",
       "    <tr>\n",
       "      <th>1</th>\n",
       "      <td>2</td>\n",
       "      <td>택배가 엉망이네용 저희집 밑에층에 말도없이 놔두고가고</td>\n",
       "    </tr>\n",
       "    <tr>\n",
       "      <th>2</th>\n",
       "      <td>5</td>\n",
       "      <td>아주좋아요 바지 정말 좋아서 개 더 구매했어요 이가격에 대박입니다 바느질이 조금 엉...</td>\n",
       "    </tr>\n",
       "    <tr>\n",
       "      <th>3</th>\n",
       "      <td>2</td>\n",
       "      <td>선물용으로 빨리 받아서 전달했어야 하는 상품이었는데 머그컵만 와서 당황했습니다 전화...</td>\n",
       "    </tr>\n",
       "    <tr>\n",
       "      <th>4</th>\n",
       "      <td>5</td>\n",
       "      <td>민트색상 예뻐요 옆 손잡이는 거는 용도로도 사용되네요 ㅎㅎ</td>\n",
       "    </tr>\n",
       "    <tr>\n",
       "      <th>5</th>\n",
       "      <td>2</td>\n",
       "      <td>비추합니다 계란 뒤집을 때 완전 불편해요 ㅠㅠ 코팅도 묻어나고 보기엔 예쁘고 실용적...</td>\n",
       "    </tr>\n",
       "    <tr>\n",
       "      <th>6</th>\n",
       "      <td>1</td>\n",
       "      <td>주문을 월 에 시켰는데 월 일에 배송이 왔네요 ㅎㅎㅎ 여기 회사측과는 전화도 안되고...</td>\n",
       "    </tr>\n",
       "    <tr>\n",
       "      <th>7</th>\n",
       "      <td>2</td>\n",
       "      <td>넉넉한 길이로 주문했는데도 안 맞네요 별로예요</td>\n",
       "    </tr>\n",
       "    <tr>\n",
       "      <th>8</th>\n",
       "      <td>2</td>\n",
       "      <td>보폴이 계속 때처럼 나오다가 지금은 안나네요</td>\n",
       "    </tr>\n",
       "    <tr>\n",
       "      <th>9</th>\n",
       "      <td>2</td>\n",
       "      <td>인데 전문속옷브랜드 위생팬티 보다 작은듯해요 불편해요 밴딩부분이 다 신축성없는 일반...</td>\n",
       "    </tr>\n",
       "  </tbody>\n",
       "</table>\n",
       "</div>"
      ],
      "text/plain": [
       "   score                                             review\n",
       "0      5                                            배공빠르고 굿\n",
       "1      2                      택배가 엉망이네용 저희집 밑에층에 말도없이 놔두고가고\n",
       "2      5  아주좋아요 바지 정말 좋아서 개 더 구매했어요 이가격에 대박입니다 바느질이 조금 엉...\n",
       "3      2  선물용으로 빨리 받아서 전달했어야 하는 상품이었는데 머그컵만 와서 당황했습니다 전화...\n",
       "4      5                   민트색상 예뻐요 옆 손잡이는 거는 용도로도 사용되네요 ㅎㅎ\n",
       "5      2  비추합니다 계란 뒤집을 때 완전 불편해요 ㅠㅠ 코팅도 묻어나고 보기엔 예쁘고 실용적...\n",
       "6      1  주문을 월 에 시켰는데 월 일에 배송이 왔네요 ㅎㅎㅎ 여기 회사측과는 전화도 안되고...\n",
       "7      2                          넉넉한 길이로 주문했는데도 안 맞네요 별로예요\n",
       "8      2                           보폴이 계속 때처럼 나오다가 지금은 안나네요\n",
       "9      2  인데 전문속옷브랜드 위생팬티 보다 작은듯해요 불편해요 밴딩부분이 다 신축성없는 일반..."
      ]
     },
     "execution_count": 22,
     "metadata": {},
     "output_type": "execute_result"
    }
   ],
   "source": [
    "total_data = pd.read_csv('./save_data/naver_review_puretext.csv')\n",
    "total_data = total_data[['score','review']]\n",
    "total_data[:10]"
   ]
  },
  {
   "cell_type": "code",
   "execution_count": 23,
   "id": "54f8c3be",
   "metadata": {},
   "outputs": [
    {
     "data": {
      "text/html": [
       "<div>\n",
       "<style scoped>\n",
       "    .dataframe tbody tr th:only-of-type {\n",
       "        vertical-align: middle;\n",
       "    }\n",
       "\n",
       "    .dataframe tbody tr th {\n",
       "        vertical-align: top;\n",
       "    }\n",
       "\n",
       "    .dataframe thead th {\n",
       "        text-align: right;\n",
       "    }\n",
       "</style>\n",
       "<table border=\"1\" class=\"dataframe\">\n",
       "  <thead>\n",
       "    <tr style=\"text-align: right;\">\n",
       "      <th></th>\n",
       "      <th>score</th>\n",
       "      <th>review</th>\n",
       "      <th>label</th>\n",
       "    </tr>\n",
       "  </thead>\n",
       "  <tbody>\n",
       "    <tr>\n",
       "      <th>0</th>\n",
       "      <td>5</td>\n",
       "      <td>배공빠르고 굿</td>\n",
       "      <td>1</td>\n",
       "    </tr>\n",
       "    <tr>\n",
       "      <th>1</th>\n",
       "      <td>2</td>\n",
       "      <td>택배가 엉망이네용 저희집 밑에층에 말도없이 놔두고가고</td>\n",
       "      <td>0</td>\n",
       "    </tr>\n",
       "    <tr>\n",
       "      <th>2</th>\n",
       "      <td>5</td>\n",
       "      <td>아주좋아요 바지 정말 좋아서 개 더 구매했어요 이가격에 대박입니다 바느질이 조금 엉...</td>\n",
       "      <td>1</td>\n",
       "    </tr>\n",
       "    <tr>\n",
       "      <th>3</th>\n",
       "      <td>2</td>\n",
       "      <td>선물용으로 빨리 받아서 전달했어야 하는 상품이었는데 머그컵만 와서 당황했습니다 전화...</td>\n",
       "      <td>0</td>\n",
       "    </tr>\n",
       "    <tr>\n",
       "      <th>4</th>\n",
       "      <td>5</td>\n",
       "      <td>민트색상 예뻐요 옆 손잡이는 거는 용도로도 사용되네요 ㅎㅎ</td>\n",
       "      <td>1</td>\n",
       "    </tr>\n",
       "    <tr>\n",
       "      <th>5</th>\n",
       "      <td>2</td>\n",
       "      <td>비추합니다 계란 뒤집을 때 완전 불편해요 ㅠㅠ 코팅도 묻어나고 보기엔 예쁘고 실용적...</td>\n",
       "      <td>0</td>\n",
       "    </tr>\n",
       "    <tr>\n",
       "      <th>6</th>\n",
       "      <td>1</td>\n",
       "      <td>주문을 월 에 시켰는데 월 일에 배송이 왔네요 ㅎㅎㅎ 여기 회사측과는 전화도 안되고...</td>\n",
       "      <td>0</td>\n",
       "    </tr>\n",
       "    <tr>\n",
       "      <th>7</th>\n",
       "      <td>2</td>\n",
       "      <td>넉넉한 길이로 주문했는데도 안 맞네요 별로예요</td>\n",
       "      <td>0</td>\n",
       "    </tr>\n",
       "    <tr>\n",
       "      <th>8</th>\n",
       "      <td>2</td>\n",
       "      <td>보폴이 계속 때처럼 나오다가 지금은 안나네요</td>\n",
       "      <td>0</td>\n",
       "    </tr>\n",
       "    <tr>\n",
       "      <th>9</th>\n",
       "      <td>2</td>\n",
       "      <td>인데 전문속옷브랜드 위생팬티 보다 작은듯해요 불편해요 밴딩부분이 다 신축성없는 일반...</td>\n",
       "      <td>0</td>\n",
       "    </tr>\n",
       "  </tbody>\n",
       "</table>\n",
       "</div>"
      ],
      "text/plain": [
       "   score                                             review  label\n",
       "0      5                                            배공빠르고 굿      1\n",
       "1      2                      택배가 엉망이네용 저희집 밑에층에 말도없이 놔두고가고      0\n",
       "2      5  아주좋아요 바지 정말 좋아서 개 더 구매했어요 이가격에 대박입니다 바느질이 조금 엉...      1\n",
       "3      2  선물용으로 빨리 받아서 전달했어야 하는 상품이었는데 머그컵만 와서 당황했습니다 전화...      0\n",
       "4      5                   민트색상 예뻐요 옆 손잡이는 거는 용도로도 사용되네요 ㅎㅎ      1\n",
       "5      2  비추합니다 계란 뒤집을 때 완전 불편해요 ㅠㅠ 코팅도 묻어나고 보기엔 예쁘고 실용적...      0\n",
       "6      1  주문을 월 에 시켰는데 월 일에 배송이 왔네요 ㅎㅎㅎ 여기 회사측과는 전화도 안되고...      0\n",
       "7      2                          넉넉한 길이로 주문했는데도 안 맞네요 별로예요      0\n",
       "8      2                           보폴이 계속 때처럼 나오다가 지금은 안나네요      0\n",
       "9      2  인데 전문속옷브랜드 위생팬티 보다 작은듯해요 불편해요 밴딩부분이 다 신축성없는 일반...      0"
      ]
     },
     "execution_count": 23,
     "metadata": {},
     "output_type": "execute_result"
    }
   ],
   "source": [
    "#긍정과 부정 라벨 붙여주기\n",
    "#긍정 : score > 3 부정 : score < 3\n",
    "total_data['label'] = np.select([total_data.score>3],[1],default=0)\n",
    "total_data[:10]"
   ]
  },
  {
   "cell_type": "code",
   "execution_count": 24,
   "id": "da1afb67",
   "metadata": {
    "scrolled": true
   },
   "outputs": [
    {
     "name": "stdout",
     "output_type": "stream",
     "text": [
      "null 유무 :  False\n",
      "총 샘플 수 :  199286\n"
     ]
    }
   ],
   "source": [
    "print('null 유무 : ',total_data.isnull().values.any())\n",
    "total_data.drop_duplicates(subset=['review'], inplace = True)\n",
    "\n",
    "print('총 샘플 수 : ',len(total_data))"
   ]
  },
  {
   "cell_type": "code",
   "execution_count": 25,
   "id": "322e33d6",
   "metadata": {
    "scrolled": true
   },
   "outputs": [
    {
     "name": "stdout",
     "output_type": "stream",
     "text": [
      "훈련용 리뷰의 개수 : 149464\n",
      "테스트용 리뷰의 개수 : 49822\n",
      "   label  count\n",
      "0      0  74739\n",
      "1      1  74725\n"
     ]
    },
    {
     "data": {
      "image/png": "[encoded data removed]",
      "text/plain": [
       "<Figure size 640x480 with 1 Axes>"
      ]
     },
     "metadata": {},
     "output_type": "display_data"
    }
   ],
   "source": [
    "train_data, test_data = train_test_split(total_data, test_size = 0.25, random_state = 42)\n",
    "\n",
    "print('훈련용 리뷰의 개수 :', len(train_data))\n",
    "print('테스트용 리뷰의 개수 :', len(test_data))\n",
    "train_data['label'].value_counts().plot(kind = 'bar')\n",
    "print(train_data.groupby('label').size().reset_index(name = 'count'))"
   ]
  },
  {
   "cell_type": "code",
   "execution_count": 26,
   "id": "f37b84ab",
   "metadata": {},
   "outputs": [],
   "source": [
    "mecab = Mecab(\"C:/mecab/mecab-ko-dic\")\n",
    "stopwords = ['도', '는', '다', '의', '가', '이', '은', '한', '에', '하', '고', '을', '를', '인', '듯', '과', '와', '네', '들', '듯', '지', '임', '게']\n",
    "\n",
    "train_data['tokenized'] = train_data['review'].apply(mecab.morphs)\n",
    "train_data['tokenized'] = train_data['tokenized'].apply(lambda x: [item for item in x if item not in stopwords])\n",
    "\n",
    "test_data['tokenized'] = test_data['review'].apply(mecab.morphs)\n",
    "test_data['tokenized'] = test_data['tokenized'].apply(lambda x: [item for item in x if item not in stopwords])\n"
   ]
  },
  {
   "cell_type": "code",
   "execution_count": 27,
   "id": "e82c9b5b",
   "metadata": {},
   "outputs": [
    {
     "data": {
      "text/html": [
       "<div>\n",
       "<style scoped>\n",
       "    .dataframe tbody tr th:only-of-type {\n",
       "        vertical-align: middle;\n",
       "    }\n",
       "\n",
       "    .dataframe tbody tr th {\n",
       "        vertical-align: top;\n",
       "    }\n",
       "\n",
       "    .dataframe thead th {\n",
       "        text-align: right;\n",
       "    }\n",
       "</style>\n",
       "<table border=\"1\" class=\"dataframe\">\n",
       "  <thead>\n",
       "    <tr style=\"text-align: right;\">\n",
       "      <th></th>\n",
       "      <th>score</th>\n",
       "      <th>review</th>\n",
       "      <th>label</th>\n",
       "      <th>tokenized</th>\n",
       "    </tr>\n",
       "  </thead>\n",
       "  <tbody>\n",
       "    <tr>\n",
       "      <th>186139</th>\n",
       "      <td>2</td>\n",
       "      <td>그냥 그렇내요 생각보다 좀 아쉬운 제품입니다</td>\n",
       "      <td>0</td>\n",
       "      <td>[그냥, 그렇, 내요, 생각, 보다, 좀, 아쉬운, 제품, 입니다]</td>\n",
       "    </tr>\n",
       "    <tr>\n",
       "      <th>33309</th>\n",
       "      <td>2</td>\n",
       "      <td>고구마 뿌리가 너무 많아요 못생긴건 괜찮은덕 고구마가 전체적으로 뿌리가 너무많고 심...</td>\n",
       "      <td>0</td>\n",
       "      <td>[고구마, 뿌리, 너무, 많, 아요, 못생긴, 건, 괜찮, 덕, 고구마, 전체, 적...</td>\n",
       "    </tr>\n",
       "    <tr>\n",
       "      <th>110816</th>\n",
       "      <td>1</td>\n",
       "      <td>정말 실망스럽습니다 너무 얇아서 옷을 안걸어도 휘청이네요 옷걸이는 무엇보다 견고한게...</td>\n",
       "      <td>0</td>\n",
       "      <td>[정말, 실망, 스럽, 습니다, 너무, 얇, 아서, 옷, 안, 걸어도, 휘청이, 네...</td>\n",
       "    </tr>\n",
       "    <tr>\n",
       "      <th>110381</th>\n",
       "      <td>5</td>\n",
       "      <td>기대하지않고 고기류는 처음구매해보았는데 고기가 너무 좋아서 다른 부유도 사고싶네요 ...</td>\n",
       "      <td>1</td>\n",
       "      <td>[기대, 않, 고기, 류, 처음, 구매, 해, 보, 았, 는데, 고기, 너무, 좋,...</td>\n",
       "    </tr>\n",
       "    <tr>\n",
       "      <th>34333</th>\n",
       "      <td>5</td>\n",
       "      <td>네 잘받았습니다 너무좋아요 판매자님 친절하게 답변 잘해주셔서 고맙습니다</td>\n",
       "      <td>1</td>\n",
       "      <td>[잘, 받, 았, 습니다, 너무, 좋, 아요, 판매자, 님, 친절, 답변, 잘, 해...</td>\n",
       "    </tr>\n",
       "  </tbody>\n",
       "</table>\n",
       "</div>"
      ],
      "text/plain": [
       "        score                                             review  label  \\\n",
       "186139      2                           그냥 그렇내요 생각보다 좀 아쉬운 제품입니다      0   \n",
       "33309       2  고구마 뿌리가 너무 많아요 못생긴건 괜찮은덕 고구마가 전체적으로 뿌리가 너무많고 심...      0   \n",
       "110816      1  정말 실망스럽습니다 너무 얇아서 옷을 안걸어도 휘청이네요 옷걸이는 무엇보다 견고한게...      0   \n",
       "110381      5  기대하지않고 고기류는 처음구매해보았는데 고기가 너무 좋아서 다른 부유도 사고싶네요 ...      1   \n",
       "34333       5            네 잘받았습니다 너무좋아요 판매자님 친절하게 답변 잘해주셔서 고맙습니다      1   \n",
       "\n",
       "                                                tokenized  \n",
       "186139              [그냥, 그렇, 내요, 생각, 보다, 좀, 아쉬운, 제품, 입니다]  \n",
       "33309   [고구마, 뿌리, 너무, 많, 아요, 못생긴, 건, 괜찮, 덕, 고구마, 전체, 적...  \n",
       "110816  [정말, 실망, 스럽, 습니다, 너무, 얇, 아서, 옷, 안, 걸어도, 휘청이, 네...  \n",
       "110381  [기대, 않, 고기, 류, 처음, 구매, 해, 보, 았, 는데, 고기, 너무, 좋,...  \n",
       "34333   [잘, 받, 았, 습니다, 너무, 좋, 아요, 판매자, 님, 친절, 답변, 잘, 해...  "
      ]
     },
     "execution_count": 27,
     "metadata": {},
     "output_type": "execute_result"
    }
   ],
   "source": [
    "train_data[:5]"
   ]
  },
  {
   "cell_type": "code",
   "execution_count": 28,
   "id": "2d6d1102",
   "metadata": {},
   "outputs": [
    {
     "name": "stdout",
     "output_type": "stream",
     "text": [
      "negative\n",
      "[('네요', 31972), ('는데', 20280), ('안', 19760), ('어요', 14656), ('너무', 13206), ('있', 13181), ('했', 11750), ('좋', 9729), ('배송', 9579), ('같', 9136), ('거', 8973), ('어', 8870), ('구매', 8813), ('없', 8811), ('아요', 8682), ('되', 8516), ('습니다', 8456), ('그냥', 8320), ('잘', 8061), ('않', 7953)]\n",
      "\n",
      "positive\n",
      "[('좋', 39359), ('아요', 21046), ('네요', 19846), ('어요', 18666), ('잘', 18556), ('구매', 16195), ('습니다', 13515), ('있', 12367), ('배송', 12228), ('는데', 11746), ('했', 9798), ('합니다', 9790), ('먹', 9636), ('재', 9282), ('너무', 8364), ('같', 7909), ('만족', 7249), ('거', 6569), ('어', 6354), ('쓰', 6228)]\n"
     ]
    }
   ],
   "source": [
    "negative_words = np.hstack(train_data[train_data.label == 0]['tokenized'].values)\n",
    "positive_words = np.hstack(train_data[train_data.label == 1]['tokenized'].values)\n",
    "\n",
    "negative_word_count = Counter(negative_words)\n",
    "print('negative')\n",
    "print(negative_word_count.most_common(20))\n",
    "print()\n",
    "positive_word_count = Counter(positive_words)\n",
    "print('positive')\n",
    "print(positive_word_count.most_common(20))"
   ]
  },
  {
   "cell_type": "code",
   "execution_count": 29,
   "id": "5b6868d1",
   "metadata": {
    "scrolled": true
   },
   "outputs": [
    {
     "name": "stdout",
     "output_type": "stream",
     "text": [
      "긍정 리뷰의 평균 길이 : 13.64507193041151\n",
      "부정 리뷰의 평균 길이 : 17.131872248759013\n"
     ]
    },
    {
     "data": {
      "image/png": "[encoded data removed]",
      "text/plain": [
       "<Figure size 1000x500 with 2 Axes>"
      ]
     },
     "metadata": {},
     "output_type": "display_data"
    }
   ],
   "source": [
    "fig,(ax1,ax2) = plt.subplots(1,2,figsize=(10,5))\n",
    "text_len = train_data[train_data['label']==1]['tokenized'].map(lambda x: len(x))\n",
    "ax1.hist(text_len, color='red')\n",
    "ax1.set_title('Positive Reviews')\n",
    "ax1.set_xlabel('length of samples')\n",
    "ax1.set_ylabel('number of samples')\n",
    "print('긍정 리뷰의 평균 길이 :', np.mean(text_len))\n",
    "\n",
    "text_len = train_data[train_data['label']==0]['tokenized'].map(lambda x: len(x))\n",
    "ax2.hist(text_len, color='blue')\n",
    "ax2.set_title('Negative Reviews')\n",
    "fig.suptitle('Words in texts')\n",
    "ax2.set_xlabel('length of samples')\n",
    "ax2.set_ylabel('number of samples')\n",
    "print('부정 리뷰의 평균 길이 :', np.mean(text_len))\n",
    "plt.show()"
   ]
  },
  {
   "cell_type": "code",
   "execution_count": 30,
   "id": "147b3f39",
   "metadata": {},
   "outputs": [],
   "source": [
    "X_train = train_data['tokenized'].values\n",
    "y_train = train_data['label'].values\n",
    "X_test= test_data['tokenized'].values\n",
    "y_test = test_data['label'].values"
   ]
  },
  {
   "cell_type": "code",
   "execution_count": 31,
   "id": "2da9b85d",
   "metadata": {
    "scrolled": true
   },
   "outputs": [
    {
     "name": "stdout",
     "output_type": "stream",
     "text": [
      "단어 집합(vocabulary)의 크기 : 39382\n",
      "등장 빈도가 1번 이하인 희귀 단어의 수: 17747\n",
      "단어 집합에서 희귀 단어의 비율: 45.063734701132496\n",
      "전체 등장 빈도에서 희귀 단어 등장 빈도 비율: 0.7715929283184213\n"
     ]
    }
   ],
   "source": [
    "tokenizer = Tokenizer()\n",
    "tokenizer.fit_on_texts(X_train)\n",
    "threshold = 2\n",
    "total_cnt = len(tokenizer.word_index) # 단어의 수\n",
    "rare_cnt = 0 # 등장 빈도수가 threshold보다 작은 단어의 개수를 카운트\n",
    "total_freq = 0 # 훈련 데이터의 전체 단어 빈도수 총 합\n",
    "rare_freq = 0 # 등장 빈도수가 threshold보다 작은 단어의 등장 빈도수의 총 합\n",
    "\n",
    "# 단어와 빈도수의 쌍(pair)을 key와 value로 받는다.\n",
    "for key, value in tokenizer.word_counts.items():\n",
    "    total_freq = total_freq + value\n",
    "\n",
    "    # 단어의 등장 빈도수가 threshold보다 작으면\n",
    "    if(value < threshold):\n",
    "        rare_cnt = rare_cnt + 1\n",
    "        rare_freq = rare_freq + value\n",
    "\n",
    "print('단어 집합(vocabulary)의 크기 :',total_cnt)\n",
    "print('등장 빈도가 %s번 이하인 희귀 단어의 수: %s'%(threshold - 1, rare_cnt))\n",
    "print(\"단어 집합에서 희귀 단어의 비율:\", (rare_cnt / total_cnt)*100)\n",
    "print(\"전체 등장 빈도에서 희귀 단어 등장 빈도 비율:\", (rare_freq / total_freq)*100)"
   ]
  },
  {
   "cell_type": "code",
   "execution_count": 32,
   "id": "2e6b093f",
   "metadata": {},
   "outputs": [
    {
     "name": "stdout",
     "output_type": "stream",
     "text": [
      "단어 집합의 크기 : 21637\n"
     ]
    }
   ],
   "source": [
    "vocab_size = total_cnt - rare_cnt + 2\n",
    "print('단어 집합의 크기 :',vocab_size)"
   ]
  },
  {
   "cell_type": "code",
   "execution_count": 33,
   "id": "a3fa66ae",
   "metadata": {},
   "outputs": [],
   "source": [
    "tokenizer = Tokenizer(vocab_size, oov_token = 'OOV') \n",
    "tokenizer.fit_on_texts(X_train)\n",
    "X_train = tokenizer.texts_to_sequences(X_train)\n",
    "X_test = tokenizer.texts_to_sequences(X_test)"
   ]
  },
  {
   "cell_type": "code",
   "execution_count": 34,
   "id": "bcced468",
   "metadata": {
    "scrolled": true
   },
   "outputs": [
    {
     "name": "stdout",
     "output_type": "stream",
     "text": [
      "[[43, 346, 719, 52, 36, 51, 958, 45, 55], [751, 911, 13, 113, 6, 12509, 143, 85, 1934, 751, 652, 117, 34, 911, 13, 113, 4080, 8, 47, 18, 23, 131, 2, 238, 13, 1541, 29, 124, 10, 18, 4], [92, 185, 250, 11, 13, 172, 42, 268, 10, 4951, 1, 2, 1220, 699, 36, 791, 850, 103, 295, 51, 403, 2]]\n",
      "[[3, 11, 73, 252, 79, 8, 5633, 45, 57, 7, 615, 22], [13, 327, 808, 3560, 16308, 5798, 31, 35, 305, 7283, 326, 5, 58, 4406, 162, 1353, 4, 253, 143, 443, 438], [59, 2964, 54, 243, 127, 78, 244, 94, 283, 1422, 141, 1, 5, 448, 1743, 10, 346, 283, 1, 125, 1445, 515, 3521, 4657, 2076, 179, 584, 14, 5, 3120, 78, 610, 448, 1988, 156, 1832, 171, 448, 215, 2328, 799, 78]]\n"
     ]
    }
   ],
   "source": [
    "print(X_train[:3])\n",
    "print(X_test[:3])"
   ]
  },
  {
   "cell_type": "code",
   "execution_count": 35,
   "id": "854956fd",
   "metadata": {},
   "outputs": [
    {
     "name": "stdout",
     "output_type": "stream",
     "text": [
      "리뷰의 최대 길이 : 85\n",
      "리뷰의 평균 길이 : 15.388635390461918\n"
     ]
    },
    {
     "data": {
      "image/png": "[encoded data removed]",
      "text/plain": [
       "<Figure size 640x480 with 1 Axes>"
      ]
     },
     "metadata": {},
     "output_type": "display_data"
    }
   ],
   "source": [
    "print('리뷰의 최대 길이 :',max(len(review) for review in X_train))\n",
    "print('리뷰의 평균 길이 :',sum(map(len, X_train))/len(X_train))\n",
    "plt.hist([len(review) for review in X_train], bins=50)\n",
    "plt.xlabel('length of samples')\n",
    "plt.ylabel('number of samples')\n",
    "plt.show()"
   ]
  },
  {
   "cell_type": "code",
   "execution_count": 36,
   "id": "34a81ab5",
   "metadata": {},
   "outputs": [
    {
     "name": "stdout",
     "output_type": "stream",
     "text": [
      "전체 샘플 중 길이가 80 이하인 샘플의 비율: 99.99866188513622\n"
     ]
    }
   ],
   "source": [
    "def below_threshold_len(max_len, nested_list):\n",
    "  count = 0\n",
    "  for sentence in nested_list:\n",
    "    if(len(sentence) <= max_len):\n",
    "        count = count + 1\n",
    "  print('전체 샘플 중 길이가 %s 이하인 샘플의 비율: %s'%(max_len, (count / len(nested_list))*100))\n",
    "max_len = 80\n",
    "\n",
    "below_threshold_len(max_len, X_train)"
   ]
  },
  {
   "cell_type": "code",
   "execution_count": 37,
   "id": "d205e5bd",
   "metadata": {},
   "outputs": [],
   "source": [
    "X_train = pad_sequences(X_train, maxlen=max_len)\n",
    "X_test = pad_sequences(X_test, maxlen=max_len)"
   ]
  },
  {
   "cell_type": "code",
   "execution_count": 41,
   "id": "84410446",
   "metadata": {
    "scrolled": false
   },
   "outputs": [
    {
     "name": "stdout",
     "output_type": "stream",
     "text": [
      "Epoch 1/15\n",
      "1868/1869 [============================>.] - ETA: 0s - loss: 0.2637 - acc: 0.8997\n",
      "Epoch 1: val_acc improved from -inf to 0.91633, saving model to best_model.h5\n",
      "1869/1869 [==============================] - 30s 13ms/step - loss: 0.2637 - acc: 0.8997 - val_loss: 0.2278 - val_acc: 0.9163\n",
      "Epoch 2/15\n",
      "1865/1869 [============================>.] - ETA: 0s - loss: 0.1910 - acc: 0.9323\n",
      "Epoch 2: val_acc improved from 0.91633 to 0.91684, saving model to best_model.h5\n",
      "1869/1869 [==============================] - 23s 12ms/step - loss: 0.1910 - acc: 0.9323 - val_loss: 0.2237 - val_acc: 0.9168\n",
      "Epoch 3/15\n",
      "1869/1869 [==============================] - ETA: 0s - loss: 0.1579 - acc: 0.9445\n",
      "Epoch 3: val_acc improved from 0.91684 to 0.91754, saving model to best_model.h5\n",
      "1869/1869 [==============================] - 23s 12ms/step - loss: 0.1579 - acc: 0.9445 - val_loss: 0.2310 - val_acc: 0.9175\n",
      "Epoch 4/15\n",
      "1866/1869 [============================>.] - ETA: 0s - loss: 0.1331 - acc: 0.9532\n",
      "Epoch 4: val_acc did not improve from 0.91754\n",
      "1869/1869 [==============================] - 23s 12ms/step - loss: 0.1331 - acc: 0.9532 - val_loss: 0.2545 - val_acc: 0.9147\n",
      "Epoch 5/15\n",
      "1865/1869 [============================>.] - ETA: 0s - loss: 0.1120 - acc: 0.9608\n",
      "Epoch 5: val_acc did not improve from 0.91754\n",
      "1869/1869 [==============================] - 23s 12ms/step - loss: 0.1120 - acc: 0.9608 - val_loss: 0.2845 - val_acc: 0.9127\n",
      "Epoch 6/15\n",
      "1867/1869 [============================>.] - ETA: 0s - loss: 0.0938 - acc: 0.9673\n",
      "Epoch 6: val_acc did not improve from 0.91754\n",
      "1869/1869 [==============================] - 23s 12ms/step - loss: 0.0938 - acc: 0.9673 - val_loss: 0.3077 - val_acc: 0.9088\n",
      "Epoch 6: early stopping\n"
     ]
    }
   ],
   "source": [
    "from tensorflow.keras.layers import Embedding, Dense, GRU\n",
    "from tensorflow.keras.models import Sequential\n",
    "from tensorflow.keras.models import load_model\n",
    "from tensorflow.keras.callbacks import EarlyStopping, ModelCheckpoint\n",
    "\n",
    "embedding_dim = 100\n",
    "hidden_units = 128\n",
    "\n",
    "model = Sequential()\n",
    "model.add(Embedding(vocab_size, embedding_dim))\n",
    "model.add(GRU(hidden_units))\n",
    "model.add(Dense(1, activation='sigmoid'))\n",
    "\n",
    "es = EarlyStopping(monitor='val_loss', mode='min', verbose=1, patience=4)\n",
    "mc = ModelCheckpoint('best_model.h5', monitor='val_acc', mode='max', verbose=1, save_best_only=True)\n",
    "\n",
    "model.compile(optimizer='Adam', loss='binary_crossentropy', metrics=['acc'])\n",
    "history = model.fit(X_train, y_train, epochs=15, callbacks=[es, mc], batch_size=64, validation_split=0.2)"
   ]
  },
  {
   "cell_type": "code",
   "execution_count": 52,
   "id": "a50a1afd",
   "metadata": {},
   "outputs": [],
   "source": [
    "#load_model = tf.keras.models.load_model('./model/GRU_Model.h5')\n",
    "def sentiment_predict(new_sentence):\n",
    "  new_sentence = re.sub(r'[^ㄱ-ㅎㅏ-ㅣ가-힣 ]','', new_sentence)\n",
    "  new_sentence = mecab.morphs(new_sentence)\n",
    "  new_sentence = [word for word in new_sentence if not word in stopwords]\n",
    "  encoded = tokenizer.texts_to_sequences([new_sentence])\n",
    "  pad_new = pad_sequences(encoded, maxlen = max_len)\n",
    "\n",
    "  score = float(model.predict(pad_new))\n",
    "  print(\"score : \", score)\n",
    "  if(score > 0.5):\n",
    "    print(\"{:.2f}% 확률로 긍정 리뷰입니다.\".format(score * 100))\n",
    "  else:\n",
    "    print(\"{:.2f}% 확률로 부정 리뷰입니다.\".format((1 - score) * 100))\n"
   ]
  },
  {
   "cell_type": "code",
   "execution_count": 69,
   "id": "42aedc10",
   "metadata": {},
   "outputs": [
    {
     "name": "stdout",
     "output_type": "stream",
     "text": [
      "1/1 [==============================] - 0s 21ms/step\n",
      "score :  0.2444353848695755\n",
      "75.56% 확률로 부정 리뷰입니다.\n"
     ]
    }
   ],
   "source": [
    "sentiment_predict('택배포장 테이프도 비닐이 아니라 종이 테이프면 더 좋을 것 같아요.')"
   ]
  },
  {
   "cell_type": "code",
   "execution_count": 45,
   "id": "e3bbf0c0",
   "metadata": {},
   "outputs": [],
   "source": [
    "model.save('./model/GRU_Model.h5')\n",
    "#load_model = tf.keras.models.load_model('./model/GRU_Model.h5')"
   ]
  }
 ],
 "metadata": {
  "kernelspec": {
   "display_name": "vEnv",
   "language": "python",
   "name": "jupyterenv"
  },
  "language_info": {
   "codemirror_mode": {
    "name": "ipython",
    "version": 3
   },
   "file_extension": ".py",
   "mimetype": "text/x-python",
   "name": "python",
   "nbconvert_exporter": "python",
   "pygments_lexer": "ipython3",
   "version": "3.8.13"
  }
 },
 "nbformat": 4,
 "nbformat_minor": 5
}
