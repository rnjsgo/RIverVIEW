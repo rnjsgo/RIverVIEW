{
 "cells": [
  {
   "cell_type": "code",
   "execution_count": 2,
   "id": "c0b7dd85",
   "metadata": {},
   "outputs": [],
   "source": [
    "from konlpy.tag import Kkma, Komoran, Okt, Mecab\n",
    "import pandas as pd\n",
    "import numpy as np\n",
    "\n",
    "mec = Mecab(\"C:/mecab/mecab-ko-dic\")\n",
    "okt = Okt()\n",
    "kkm = Kkma()\n",
    "kom = Komoran()\n",
    "data = pd.read_csv('./save_data/naver_review_puretext.csv')"
   ]
  },
  {
   "cell_type": "code",
   "execution_count": 3,
   "id": "a58b2ed2",
   "metadata": {},
   "outputs": [
    {
     "name": "stdout",
     "output_type": "stream",
     "text": [
      "1 아직 사용해보지도않았고 다른 제품을 써본적이없어서 잘 모르겠지만 ㅎㅎ 배송은 빨랐습니다\n",
      "2 넘이쁘고 쎄련되보이네요~\n"
     ]
    }
   ],
   "source": [
    "#임의문장 2개 추출\n",
    "sentence1 = data.loc[199907,'review']\n",
    "print(1, sentence1)\n",
    "sentence2 = data.loc[199906,'review']\n",
    "print(2, sentence2)"
   ]
  },
  {
   "cell_type": "code",
   "execution_count": 4,
   "id": "3ea79729",
   "metadata": {
    "scrolled": false
   },
   "outputs": [
    {
     "name": "stdout",
     "output_type": "stream",
     "text": [
      "mecab\n",
      "[('아직', 'MAG'), ('사용', 'NNG'), ('해', 'XSV+EC'), ('보', 'VX'), ('지', 'EC'), ('도', 'JX'), ('않', 'VX'), ('았', 'EP'), ('고', 'EC'), ('다른', 'MM'), ('제품', 'NNG'), ('을', 'JKO'), ('써', 'VV+EC'), ('본', 'VX+ETM'), ('적', 'NNB'), ('이', 'JKS'), ('없', 'VA'), ('어서', 'EC'), ('잘', 'MAG'), ('모르', 'VV'), ('겠', 'EP'), ('지만', 'EC'), ('ㅎㅎ', 'IC'), ('배송', 'NNG'), ('은', 'JX'), ('빨랐', 'VA+EP'), ('습니다', 'EF')]\n",
      "\n",
      "okt\n",
      "[('아직', 'Adverb'), ('사용', 'Noun'), ('해보지도', 'Verb'), ('않았고', 'Verb'), ('다른', 'Noun'), ('제품', 'Noun'), ('을', 'Josa'), ('써', 'Verb'), ('본적', 'Noun'), ('이', 'Josa'), ('없어서', 'Adjective'), ('잘', 'Verb'), ('모르겠지만', 'Verb'), ('ㅎㅎ', 'KoreanParticle'), ('배송', 'Noun'), ('은', 'Josa'), ('빨랐습니다', 'Adjective')]\n",
      "\n",
      "kkm\n",
      "[('아직', 'MAG'), ('사용하', 'VV'), ('어', 'ECS'), ('보', 'VV'), ('지', 'ECD'), ('도', 'JX'), ('않', 'VXV'), ('았', 'EPT'), ('고', 'ECE'), ('다른', 'MDT'), ('제품', 'NNG'), ('을', 'JKO'), ('쓰', 'VV'), ('어', 'ECS'), ('본적', 'NNG'), ('이', 'JKS'), ('없', 'VA'), ('어서', 'ECD'), ('잘', 'MAG'), ('모르', 'VV'), ('겠', 'EPT'), ('지만', 'ECE'), ('ㅎㅎ', 'EMO'), ('배송', 'NNG'), ('은', 'JX'), ('빠르', 'VA'), ('았', 'EPT'), ('습니다', 'EFN')]\n",
      "\n",
      "komoran\n",
      "[('아직', 'MAG'), ('사용', 'NNG'), ('하', 'XSV'), ('아', 'EC'), ('보', 'VX'), ('지도', 'EC'), ('않', 'VX'), ('았', 'EP'), ('고', 'EC'), ('다른', 'MM'), ('제품', 'NNG'), ('을', 'JKO'), ('쓰', 'VV'), ('어', 'EC'), ('보', 'VX'), ('ㄴ', 'ETM'), ('적', 'XSN'), ('이', 'JKS'), ('없', 'VA'), ('어서', 'EC'), ('잘', 'MAG'), ('모르', 'VV'), ('겠', 'EP'), ('지만', 'EC'), ('ㅎㅎ', 'NA'), ('배', 'NNG'), ('송', 'NNP'), ('은', 'JX'), ('빠르', 'VA'), ('었', 'EP'), ('습니다', 'EC')]\n",
      "\n"
     ]
    }
   ],
   "source": [
    "#일반적인 문장 (띄어쓰기가 적당히 돼있음)\n",
    "print('mecab')\n",
    "print(mec.pos(sentence1),end='\\n\\n')\n",
    "print('okt')\n",
    "print(okt.pos(sentence1),end='\\n\\n')\n",
    "print('kkm')\n",
    "print(kkm.pos(sentence1),end='\\n\\n')\n",
    "print('komoran')\n",
    "print(kom.pos(sentence1),end='\\n\\n')"
   ]
  },
  {
   "cell_type": "code",
   "execution_count": 5,
   "id": "4624983f",
   "metadata": {
    "scrolled": false
   },
   "outputs": [
    {
     "name": "stdout",
     "output_type": "stream",
     "text": [
      "[('아직', 'Adverb'), ('사용', 'Noun'), ('해보다', 'Verb'), ('않다', 'Verb'), ('다른', 'Noun'), ('제품', 'Noun'), ('을', 'Josa'), ('써다', 'Verb'), ('본적', 'Noun'), ('이', 'Josa'), ('없다', 'Adjective'), ('자다', 'Verb'), ('모르다', 'Verb'), ('ㅎㅎ', 'KoreanParticle'), ('배송', 'Noun'), ('은', 'Josa'), ('빨르다', 'Adjective')]\n"
     ]
    }
   ],
   "source": [
    "#okt의 형태소 정규화, 오타교정\n",
    "print(okt.pos(sentence1, stem=True, norm=True))"
   ]
  },
  {
   "cell_type": "code",
   "execution_count": 6,
   "id": "d2dcd50b",
   "metadata": {
    "scrolled": true
   },
   "outputs": [
    {
     "name": "stdout",
     "output_type": "stream",
     "text": [
      "mecab\n",
      "[('넘', 'MAG'), ('이쁘', 'VA'), ('고', 'EC'), ('쎄', 'VA'), ('련', 'EC'), ('되', 'VV+EC'), ('보이', 'VV'), ('네요', 'EC'), ('~', 'SY')]\n",
      "\n",
      "okt\n",
      "[('넘', 'Verb'), ('이쁘고', 'Adjective'), ('쎄련', 'Adjective'), ('되', 'Verb'), ('보이네요', 'Verb'), ('~', 'Punctuation')]\n",
      "\n",
      "kkm\n",
      "[('넘', 'NNB'), ('이쁘', 'VV'), ('고', 'ECE'), ('쎄', 'VV'), ('련', 'EFQ'), ('되', 'VV'), ('어', 'ECS'), ('보이', 'VV'), ('네요', 'EFN'), ('~', 'SO')]\n",
      "\n",
      "komoran\n",
      "[('넘', 'NNG'), ('이쁘', 'VA'), ('고', 'EC'), ('쎄', 'VA'), ('려', 'EC'), ('ㄴ', 'JX'), ('되', 'VV'), ('보이', 'VV'), ('네요', 'EC'), ('~', 'SO')]\n",
      "\n"
     ]
    }
   ],
   "source": [
    "#일반적이지 않은 문장 (인터넷용어 '너무' -> '넘')\n",
    "print('mecab')\n",
    "print(mec.pos(sentence2),end='\\n\\n') #넘 MAG -> 일반부사로 잘 인식한 모습\n",
    "print('okt')\n",
    "print(okt.pos(sentence2),end='\\n\\n')\n",
    "print('kkm')\n",
    "print(kkm.pos(sentence2),end='\\n\\n') #넘을 명사로 인식하는 모습을 보임\n",
    "print('komoran')\n",
    "print(kom.pos(sentence2),end='\\n\\n')"
   ]
  },
  {
   "cell_type": "code",
   "execution_count": 7,
   "id": "ea5dcca3",
   "metadata": {
    "scrolled": true
   },
   "outputs": [
    {
     "name": "stdout",
     "output_type": "stream",
     "text": [
      "[('넘다', 'Verb'), ('이쁘다', 'Adjective'), ('쎄다', 'Adjective'), ('되다', 'Verb'), ('보이다', 'Verb'), ('~', 'Punctuation')]\n"
     ]
    }
   ],
   "source": [
    "#오타교정의 경우, 너무의 뜻인 넘을 넘다로 해석하여 동사로 인식한 것을 볼 수 있음\n",
    "print(okt.pos(sentence2, stem=True, norm=True))"
   ]
  },
  {
   "cell_type": "code",
   "execution_count": 8,
   "id": "8eb10703",
   "metadata": {},
   "outputs": [],
   "source": [
    "#긴 문장의 띄어쓰기가 없는 경우\n",
    "sentence3 = sentence1.replace(' ','')"
   ]
  },
  {
   "cell_type": "code",
   "execution_count": 9,
   "id": "ade8a540",
   "metadata": {
    "scrolled": true
   },
   "outputs": [
    {
     "data": {
      "text/plain": [
       "'아직사용해보지도않았고다른제품을써본적이없어서잘모르겠지만ㅎㅎ배송은빨랐습니다'"
      ]
     },
     "execution_count": 9,
     "metadata": {},
     "output_type": "execute_result"
    }
   ],
   "source": [
    "sentence3"
   ]
  },
  {
   "cell_type": "code",
   "execution_count": 10,
   "id": "2d0bc429",
   "metadata": {
    "scrolled": true
   },
   "outputs": [
    {
     "name": "stdout",
     "output_type": "stream",
     "text": [
      "mecab\n",
      "[('아직', 'MAG'), ('사용', 'NNG'), ('해', 'XSV+EC'), ('보', 'VX'), ('지', 'EC'), ('도', 'JX'), ('않', 'VX'), ('았', 'EP'), ('고', 'EC'), ('다른', 'MM'), ('제품', 'NNG'), ('을', 'JKO'), ('써', 'VV+EC'), ('본', 'VX+ETM'), ('적', 'NNB'), ('이', 'JKS'), ('없', 'VA'), ('어서', 'EC'), ('잘', 'MAG'), ('모르', 'VV'), ('겠', 'EP'), ('지만', 'EC'), ('ㅎㅎ', 'IC'), ('배송', 'NNG'), ('은', 'JX'), ('빨랐', 'VA+EP'), ('습니다', 'EF')]\n",
      "\n",
      "okt\n",
      "[('아직', 'Adverb'), ('사용', 'Noun'), ('해보지도', 'Verb'), ('않았고', 'Verb'), ('다른', 'Noun'), ('제품', 'Noun'), ('을', 'Josa'), ('써', 'Verb'), ('본적', 'Noun'), ('이', 'Josa'), ('없어서', 'Adjective'), ('잘', 'Verb'), ('모르겠지만', 'Verb'), ('ㅎㅎ', 'KoreanParticle'), ('배송', 'Noun'), ('은', 'Josa'), ('빨랐습니다', 'Adjective')]\n",
      "\n",
      "kkm\n",
      "[('아직', 'MAG'), ('사용', 'NNG'), ('해보', 'VV'), ('지', 'ECD'), ('도', 'JX'), ('않', 'VXV'), ('았', 'EPT'), ('고', 'ECE'), ('다른', 'MDT'), ('제품', 'NNG'), ('을', 'JKO'), ('쓰', 'VV'), ('어', 'ECS'), ('본적', 'NNG'), ('이', 'JKS'), ('없', 'VA'), ('어서', 'ECD'), ('잘', 'MAG'), ('모르', 'VV'), ('겠', 'EPT'), ('지만', 'ECE'), ('ㅎㅎ', 'EMO'), ('배송', 'NNG'), ('은', 'JX'), ('빠르', 'VA'), ('았', 'EPT'), ('습니다', 'EFN')]\n",
      "\n",
      "komoran\n",
      "[('아직사용해보지도않았고다른제품을써본적이없어서잘모르겠지만ㅎㅎ배송은빨랐습니다', 'NA')]\n",
      "\n"
     ]
    }
   ],
   "source": [
    "print('mecab')\n",
    "print(mec.pos(sentence3),end='\\n\\n')\n",
    "print('okt')\n",
    "print(okt.pos(sentence3),end='\\n\\n')\n",
    "print('kkm')\n",
    "print(kkm.pos(sentence3),end='\\n\\n')\n",
    "print('komoran')\n",
    "print(kom.pos(sentence3),end='\\n\\n') #띄어쓰기가 없는경우 인식하지 못함"
   ]
  },
  {
   "cell_type": "code",
   "execution_count": 11,
   "id": "9240d8f2",
   "metadata": {},
   "outputs": [],
   "source": [
    "#오타가 있고 띄어쓰기가 안된 경우\n",
    "sentence = '사용감이너무좋은재품이에요추천함니다'"
   ]
  },
  {
   "cell_type": "code",
   "execution_count": 12,
   "id": "964b049d",
   "metadata": {
    "scrolled": true
   },
   "outputs": [
    {
     "name": "stdout",
     "output_type": "stream",
     "text": [
      "mecab\n",
      "[('사용', 'NNG'), ('감', 'XSN'), ('이', 'JKS'), ('너무', 'MAG'), ('좋', 'VA'), ('은', 'ETM'), ('재품', 'NNG'), ('이', 'VCP'), ('에요', 'EF'), ('추천', 'NNG'), ('함', 'XSV+ETN'), ('니다', 'EC')]\n",
      "\n",
      "okt\n",
      "[('사', 'Modifier'), ('용감', 'Noun'), ('이', 'Josa'), ('너무', 'Adverb'), ('좋다', 'Adjective'), ('은재', 'Noun'), ('품', 'Noun'), ('이에요', 'Josa'), ('추천', 'Noun'), ('하다', 'Verb')]\n",
      "\n",
      "kkm\n",
      "[('사용', 'NNG'), ('감', 'XSN'), ('이', 'JKS'), ('너무', 'MAG'), ('좋', 'VA'), ('은', 'ETD'), ('재품', 'NNG'), ('이', 'VCP'), ('에요', 'EFN'), ('추천', 'NNG'), ('하', 'XSV'), ('ㅁ니다', 'EFN')]\n",
      "\n",
      "komoran\n",
      "[('사용', 'NNG'), ('감', 'NNG'), ('이', 'JKS'), ('너무', 'MAG'), ('좋', 'VA'), ('은', 'ETM'), ('재', 'NNG'), ('품', 'NNG'), ('이', 'VCP'), ('에요', 'EC'), ('추천', 'NNG'), ('함', 'NNG'), ('니다', 'NNP')]\n",
      "\n"
     ]
    }
   ],
   "source": [
    "print('mecab')\n",
    "print(mec.pos(sentence),end='\\n\\n')\n",
    "#함니다의 함을 동사파생접미사로 공부함과같은 함으로 인식함\n",
    "#크게 사용함에있어서 문제되지 않는수준에서 형태소를 분석함\n",
    "print('okt')\n",
    "print(okt.pos(sentence, stem=True, norm=True),end='\\n\\n')\n",
    "#사와 용감을 따로 인식하는 모습과 제품이라는 명사의 경우 인식하지 못한 모습\n",
    "print('kkm')\n",
    "print(kkm.pos(sentence),end='\\n\\n')\n",
    "#재품과 하와 ㅁ니다, 모두 적절하게 인식하는 모습을 보임\n",
    "print('komoran')\n",
    "print(kom.pos(sentence),end='\\n\\n')\n",
    "#재품을 각각의 명사로 인식하는 모습을 보임"
   ]
  },
  {
   "cell_type": "markdown",
   "id": "778e0dd7",
   "metadata": {},
   "source": [
    "## 정리\n",
    "#### mecab\n",
    "띄어쓰기가 돼있지 않고, 오타가 있는 경우에도 무난한 성능을 보임\n",
    "\n",
    "#### okt\n",
    "오타수정과같은 특수한 기능이 있으나, 명사를 인식하는데 있어서 어려움을 보임\n",
    "\n",
    "#### kkma\n",
    "mecab보다는 아니지만 어느정도 무난한 성능을 보임\n",
    "형태소를 일반적인 형태로 바꾸어 출력하는 기능도 있음\n",
    "\n",
    "#### komoran\n",
    "띄어쓰기가 없는 긴 문장에 대해서 전혀 인식하지 못함\n",
    "오타가 있는 경우에도 인식에 오류가 많은 모습을 보임 "
   ]
  },
  {
   "cell_type": "code",
   "execution_count": 13,
   "id": "f77bbed2",
   "metadata": {},
   "outputs": [],
   "source": [
    "#소요시간 비교\n",
    "import time\n",
    "from tqdm import tqdm\n",
    "\n",
    "def tagger_time(tagger, texts):\n",
    "  time_sum = 0\n",
    "\n",
    "  for sentence in tqdm(texts):\n",
    "    t1 = time.time()\n",
    "    try:\n",
    "      tagger.morphs(sentence)\n",
    "    except:\n",
    "      pass\n",
    "    t2 = time.time()\n",
    "\n",
    "    time_sum += (t2 - t1)\n",
    "\n",
    "  return time_sum"
   ]
  },
  {
   "cell_type": "code",
   "execution_count": 14,
   "id": "32664ddd",
   "metadata": {},
   "outputs": [],
   "source": [
    "texts = data['review'][:500]\n",
    "time_list = []"
   ]
  },
  {
   "cell_type": "code",
   "execution_count": 15,
   "id": "3acc7a5c",
   "metadata": {
    "scrolled": true
   },
   "outputs": [
    {
     "name": "stderr",
     "output_type": "stream",
     "text": [
      "100%|████████████████████████████████████████████████████████████████████████████████| 500/500 [00:35<00:00, 13.99it/s]\n",
      "100%|██████████████████████████████████████████████████████████████████████████████| 500/500 [00:00<00:00, 1479.31it/s]\n",
      "100%|███████████████████████████████████████████████████████████████████████████████| 500/500 [00:01<00:00, 322.16it/s]\n",
      "100%|█████████████████████████████████████████████████████████████████████████████| 500/500 [00:00<00:00, 15127.69it/s]\n"
     ]
    }
   ],
   "source": [
    "for tagger in [kkm, kom, okt, mec]:\n",
    "    time_list.append(tagger_time(tagger,texts))"
   ]
  },
  {
   "cell_type": "code",
   "execution_count": 16,
   "id": "dbf08394",
   "metadata": {},
   "outputs": [],
   "source": [
    "import matplotlib.pyplot as plt\n",
    "import seaborn as sns\n",
    "sns.set_style('whitegrid')\n",
    "\n",
    "tagger = ['Kkma', 'Komoran', 'Okt', 'Mecab']"
   ]
  },
  {
   "cell_type": "code",
   "execution_count": 20,
   "id": "1eb110f8",
   "metadata": {},
   "outputs": [
    {
     "data": {
      "text/plain": [
       "Text(0, 0.5, 'total seconds')"
      ]
     },
     "execution_count": 20,
     "metadata": {},
     "output_type": "execute_result"
    },
    {
     "data": {
      "image/png": "[encoded data removed]",
      "text/plain": [
       "<Figure size 500x300 with 1 Axes>"
      ]
     },
     "metadata": {},
     "output_type": "display_data"
    }
   ],
   "source": [
    "plt.figure(figsize=(5,3))\n",
    "plt.bar(tagger, time_list, color=(0.4,0.7,0.5))\n",
    "plt.title('Time for 500 reviews', fontsize=17)\n",
    "plt.xticks(fontsize=14)\n",
    "plt.ylabel('total seconds')"
   ]
  },
  {
   "cell_type": "code",
   "execution_count": null,
   "id": "b7c0172c",
   "metadata": {},
   "outputs": [],
   "source": []
  }
 ],
 "metadata": {
  "kernelspec": {
   "display_name": "Python 3 (ipykernel)",
   "language": "python",
   "name": "python3"
  },
  "language_info": {
   "codemirror_mode": {
    "name": "ipython",
    "version": 3
   },
   "file_extension": ".py",
   "mimetype": "text/x-python",
   "name": "python",
   "nbconvert_exporter": "python",
   "pygments_lexer": "ipython3",
   "version": "3.9.7"
  }
 },
 "nbformat": 4,
 "nbformat_minor": 5
}
